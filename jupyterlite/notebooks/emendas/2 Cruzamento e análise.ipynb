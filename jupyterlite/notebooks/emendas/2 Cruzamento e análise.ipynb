{
 "cells": [
  {
   "cell_type": "markdown",
   "id": "63bb1fe4-92f8-432b-8f22-66f7a4b4b33b",
   "metadata": {},
   "source": [
    "## Cruzamento e análise de dados\n",
    "\n",
    "Neste caderno faremos o cruzamento das seguintes fontes de dados:\n",
    "\n",
    "1. API TransfereGov\n",
    "2. Deputados\n",
    "3. Senadores\n",
    "\n",
    "Após cruzar os dados, faremos uma análise exploratória simples."
   ]
  },
  {
   "cell_type": "code",
   "execution_count": 1,
   "id": "2f7b6c5b-3877-48a5-a7a5-e8abce660d37",
   "metadata": {},
   "outputs": [
    {
     "name": "stdout",
     "output_type": "stream",
     "text": [
      "Note: you may need to restart the kernel to use updated packages.\n"
     ]
    }
   ],
   "source": [
    "%pip install -q fastparquet plotly"
   ]
  },
  {
   "cell_type": "code",
   "execution_count": 2,
   "id": "34fa3aa8-70fd-4d3f-9678-2a1598ecf1a2",
   "metadata": {},
   "outputs": [],
   "source": [
    "import pandas as pd\n",
    "import plotly.graph_objects as go"
   ]
  },
  {
   "cell_type": "markdown",
   "id": "9badbc8d-b669-41a9-b531-38681a6911b3",
   "metadata": {},
   "source": [
    "### Carregar os dados\n",
    "\n",
    "Vamos carregar os dados que foram salvos na pasta `dados` pelo caderno `1 Baixar os dados.ipynb`."
   ]
  },
  {
   "cell_type": "code",
   "execution_count": 3,
   "id": "24c52cf8-1e96-408e-9cdc-c5bf181212ed",
   "metadata": {},
   "outputs": [],
   "source": [
    "df_transferencias = pd.read_parquet(\"dados/transferencias-especiais.parquet\")"
   ]
  },
  {
   "cell_type": "code",
   "execution_count": 4,
   "id": "32f126d6-f712-4d20-94cf-3de8d5e2af08",
   "metadata": {},
   "outputs": [],
   "source": [
    "df_deputados = pd.read_parquet(\"dados/deputados.parquet\")"
   ]
  },
  {
   "cell_type": "code",
   "execution_count": 5,
   "id": "264ed6f0-5e78-4a0a-98bf-2bed63d1d3c0",
   "metadata": {},
   "outputs": [],
   "source": [
    "df_senadores = pd.read_parquet(\"dados/senadores.parquet\")"
   ]
  },
  {
   "cell_type": "markdown",
   "id": "8dbbaafb-9f88-4728-944c-e910f3c4d63f",
   "metadata": {},
   "source": [
    "### Escopo"
   ]
  },
  {
   "cell_type": "markdown",
   "id": "16d1c119-d7b8-4830-b797-ba2c8a7bc1d5",
   "metadata": {},
   "source": [
    "Estamos trabalhando com os dados dos deputados e senadores que exercem o mandato no\n",
    "momento atual.\n",
    "\n",
    "Nos dados das emendas de 2024, podem haver emendas de parlamentares que não possuem mais\n",
    "mandatos (ex.: licenciou-se para tomar posse como ministro ou candidatar-se a prefeito,\n",
    "faleceu, reunciou, foi cassado, etc.). Esses não estão presentes nas consultas de dados\n",
    "da Câmara e do Senado, por isso as suas emendas não aparecerão quando cruzarmos os dados\n",
    "desta forma."
   ]
  },
  {
   "cell_type": "code",
   "execution_count": 6,
   "id": "d1a4b261-410a-472e-9b2a-474cb68f5567",
   "metadata": {},
   "outputs": [
    {
     "data": {
      "text/plain": [
       "{'Aj Albuquerque',\n",
       " 'Amália Barros',\n",
       " 'André Fernandes',\n",
       " 'Coronel Telhada',\n",
       " 'Dep. Josivaldo JP',\n",
       " 'Dep. Roseana Sarney',\n",
       " 'Dr. Allan Garcês',\n",
       " 'Evair Vieira De Melo',\n",
       " 'Fabio Garcia',\n",
       " 'Geraldo Mendes',\n",
       " 'Júnior Mano',\n",
       " 'Márcio Correa',\n",
       " 'Paulo Marinho JR',\n",
       " 'Prof. Paulo Fernando',\n",
       " 'Rogério Marinho',\n",
       " 'Rosângela Moro',\n",
       " 'Silvio Antonio'}"
      ]
     },
     "execution_count": 6,
     "metadata": {},
     "output_type": "execute_result"
    }
   ],
   "source": [
    "# parlamentares com emendas, mas nas situações acima descritas - não vão aparecer\n",
    "(\n",
    "    set(df_transferencias.nome.unique())\n",
    "    - set(df_deputados.nome.unique())\n",
    "    - set(df_senadores.nome.unique())\n",
    ")"
   ]
  },
  {
   "cell_type": "markdown",
   "id": "a3e80535-2523-4179-a8e4-7272d08221df",
   "metadata": {},
   "source": [
    "### Cruzamento"
   ]
  },
  {
   "cell_type": "code",
   "execution_count": 7,
   "id": "db78bf30-82ec-402d-a559-37de46d20d4c",
   "metadata": {
    "colab": {
     "base_uri": "https://localhost:8080/",
     "height": 825
    },
    "id": "mYaBwYcAekBj",
    "outputId": "19210c06-c904-498c-9e71-f821bca6fbb0"
   },
   "outputs": [
    {
     "data": {
      "text/html": [
       "<div>\n",
       "<style scoped>\n",
       "    .dataframe tbody tr th:only-of-type {\n",
       "        vertical-align: middle;\n",
       "    }\n",
       "\n",
       "    .dataframe tbody tr th {\n",
       "        vertical-align: top;\n",
       "    }\n",
       "\n",
       "    .dataframe thead th {\n",
       "        text-align: right;\n",
       "    }\n",
       "</style>\n",
       "<table border=\"1\" class=\"dataframe\">\n",
       "  <thead>\n",
       "    <tr style=\"text-align: right;\">\n",
       "      <th></th>\n",
       "      <th>id_plano_acao</th>\n",
       "      <th>codigo_plano_acao</th>\n",
       "      <th>ano_plano_acao</th>\n",
       "      <th>modalidade_plano_acao</th>\n",
       "      <th>situacao_plano_acao</th>\n",
       "      <th>cnpj_beneficiario_plano_acao</th>\n",
       "      <th>nome_beneficiario_plano_acao</th>\n",
       "      <th>uf_beneficiario_plano_acao</th>\n",
       "      <th>codigo_banco_plano_acao</th>\n",
       "      <th>codigo_situacao_dado_bancario_plano_acao</th>\n",
       "      <th>...</th>\n",
       "      <th>id_programa</th>\n",
       "      <th>id</th>\n",
       "      <th>uri</th>\n",
       "      <th>partido</th>\n",
       "      <th>uriPartido</th>\n",
       "      <th>uf</th>\n",
       "      <th>idLegislatura</th>\n",
       "      <th>urlFoto</th>\n",
       "      <th>email</th>\n",
       "      <th>cargo</th>\n",
       "    </tr>\n",
       "  </thead>\n",
       "  <tbody>\n",
       "    <tr>\n",
       "      <th>0</th>\n",
       "      <td>69182</td>\n",
       "      <td>09032024-069182</td>\n",
       "      <td>2024</td>\n",
       "      <td>Especial</td>\n",
       "      <td>CIENTE</td>\n",
       "      <td>95990131000170</td>\n",
       "      <td>MUNICIPIO DE NOVA ITABERABA</td>\n",
       "      <td>SC</td>\n",
       "      <td>104</td>\n",
       "      <td>4.0</td>\n",
       "      <td>...</td>\n",
       "      <td>21</td>\n",
       "      <td>160604.0</td>\n",
       "      <td>https://dadosabertos.camara.leg.br/api/v2/depu...</td>\n",
       "      <td>PT</td>\n",
       "      <td>https://dadosabertos.camara.leg.br/api/v2/part...</td>\n",
       "      <td>SC</td>\n",
       "      <td>57.0</td>\n",
       "      <td>https://www.camara.leg.br/internet/deputado/ba...</td>\n",
       "      <td>dep.pedrouczai@camara.leg.br</td>\n",
       "      <td>deputado</td>\n",
       "    </tr>\n",
       "    <tr>\n",
       "      <th>1</th>\n",
       "      <td>64478</td>\n",
       "      <td>09032024-064478</td>\n",
       "      <td>2024</td>\n",
       "      <td>Especial</td>\n",
       "      <td>CIENTE</td>\n",
       "      <td>41522186000126</td>\n",
       "      <td>MUNICIPIO DE PASSAGEM FRANCA DO PIAUI</td>\n",
       "      <td>PI</td>\n",
       "      <td>001</td>\n",
       "      <td>4.0</td>\n",
       "      <td>...</td>\n",
       "      <td>21</td>\n",
       "      <td>NaN</td>\n",
       "      <td>NaN</td>\n",
       "      <td>PSD</td>\n",
       "      <td>NaN</td>\n",
       "      <td>PI</td>\n",
       "      <td>NaN</td>\n",
       "      <td>NaN</td>\n",
       "      <td>NaN</td>\n",
       "      <td>senador</td>\n",
       "    </tr>\n",
       "    <tr>\n",
       "      <th>2</th>\n",
       "      <td>64487</td>\n",
       "      <td>09032024-064487</td>\n",
       "      <td>2024</td>\n",
       "      <td>Especial</td>\n",
       "      <td>CIENTE</td>\n",
       "      <td>01612590000176</td>\n",
       "      <td>MUNICIPIO DE MILTON BRANDAO</td>\n",
       "      <td>PI</td>\n",
       "      <td>104</td>\n",
       "      <td>4.0</td>\n",
       "      <td>...</td>\n",
       "      <td>21</td>\n",
       "      <td>NaN</td>\n",
       "      <td>NaN</td>\n",
       "      <td>PSD</td>\n",
       "      <td>NaN</td>\n",
       "      <td>PI</td>\n",
       "      <td>NaN</td>\n",
       "      <td>NaN</td>\n",
       "      <td>NaN</td>\n",
       "      <td>senador</td>\n",
       "    </tr>\n",
       "    <tr>\n",
       "      <th>3</th>\n",
       "      <td>72493</td>\n",
       "      <td>09032024-072493</td>\n",
       "      <td>2024</td>\n",
       "      <td>Especial</td>\n",
       "      <td>CIENTE</td>\n",
       "      <td>18114264000131</td>\n",
       "      <td>MUNICIPIO DE ESPERA FELIZ</td>\n",
       "      <td>MG</td>\n",
       "      <td>104</td>\n",
       "      <td>4.0</td>\n",
       "      <td>...</td>\n",
       "      <td>21</td>\n",
       "      <td>178895.0</td>\n",
       "      <td>https://dadosabertos.camara.leg.br/api/v2/depu...</td>\n",
       "      <td>PSD</td>\n",
       "      <td>https://dadosabertos.camara.leg.br/api/v2/part...</td>\n",
       "      <td>MG</td>\n",
       "      <td>57.0</td>\n",
       "      <td>https://www.camara.leg.br/internet/deputado/ba...</td>\n",
       "      <td>dep.misaelvarella@camara.leg.br</td>\n",
       "      <td>deputado</td>\n",
       "    </tr>\n",
       "    <tr>\n",
       "      <th>4</th>\n",
       "      <td>73453</td>\n",
       "      <td>09032024-073453</td>\n",
       "      <td>2024</td>\n",
       "      <td>Especial</td>\n",
       "      <td>CIENTE</td>\n",
       "      <td>18114264000131</td>\n",
       "      <td>MUNICIPIO DE ESPERA FELIZ</td>\n",
       "      <td>MG</td>\n",
       "      <td>104</td>\n",
       "      <td>4.0</td>\n",
       "      <td>...</td>\n",
       "      <td>21</td>\n",
       "      <td>204524.0</td>\n",
       "      <td>https://dadosabertos.camara.leg.br/api/v2/depu...</td>\n",
       "      <td>PP</td>\n",
       "      <td>https://dadosabertos.camara.leg.br/api/v2/part...</td>\n",
       "      <td>MG</td>\n",
       "      <td>57.0</td>\n",
       "      <td>https://www.camara.leg.br/internet/deputado/ba...</td>\n",
       "      <td>dep.pinheirinho@camara.leg.br</td>\n",
       "      <td>deputado</td>\n",
       "    </tr>\n",
       "    <tr>\n",
       "      <th>...</th>\n",
       "      <td>...</td>\n",
       "      <td>...</td>\n",
       "      <td>...</td>\n",
       "      <td>...</td>\n",
       "      <td>...</td>\n",
       "      <td>...</td>\n",
       "      <td>...</td>\n",
       "      <td>...</td>\n",
       "      <td>...</td>\n",
       "      <td>...</td>\n",
       "      <td>...</td>\n",
       "      <td>...</td>\n",
       "      <td>...</td>\n",
       "      <td>...</td>\n",
       "      <td>...</td>\n",
       "      <td>...</td>\n",
       "      <td>...</td>\n",
       "      <td>...</td>\n",
       "      <td>...</td>\n",
       "      <td>...</td>\n",
       "      <td>...</td>\n",
       "    </tr>\n",
       "    <tr>\n",
       "      <th>10929</th>\n",
       "      <td>65930</td>\n",
       "      <td>09032024-065930</td>\n",
       "      <td>2024</td>\n",
       "      <td>Especial</td>\n",
       "      <td>CIENTE</td>\n",
       "      <td>14197768000101</td>\n",
       "      <td>MUNICIPIO DE BREJOES</td>\n",
       "      <td>BA</td>\n",
       "      <td>104</td>\n",
       "      <td>4.0</td>\n",
       "      <td>...</td>\n",
       "      <td>21</td>\n",
       "      <td>178857.0</td>\n",
       "      <td>https://dadosabertos.camara.leg.br/api/v2/depu...</td>\n",
       "      <td>PT</td>\n",
       "      <td>https://dadosabertos.camara.leg.br/api/v2/part...</td>\n",
       "      <td>BA</td>\n",
       "      <td>57.0</td>\n",
       "      <td>https://www.camara.leg.br/internet/deputado/ba...</td>\n",
       "      <td>dep.jorgesolla@camara.leg.br</td>\n",
       "      <td>deputado</td>\n",
       "    </tr>\n",
       "    <tr>\n",
       "      <th>10930</th>\n",
       "      <td>74317</td>\n",
       "      <td>09032024-074317</td>\n",
       "      <td>2024</td>\n",
       "      <td>Especial</td>\n",
       "      <td>CIENTE</td>\n",
       "      <td>75368928000122</td>\n",
       "      <td>MUNICIPIO DE MAMBORE</td>\n",
       "      <td>PR</td>\n",
       "      <td>104</td>\n",
       "      <td>4.0</td>\n",
       "      <td>...</td>\n",
       "      <td>21</td>\n",
       "      <td>220698.0</td>\n",
       "      <td>https://dadosabertos.camara.leg.br/api/v2/depu...</td>\n",
       "      <td>PSD</td>\n",
       "      <td>https://dadosabertos.camara.leg.br/api/v2/part...</td>\n",
       "      <td>PR</td>\n",
       "      <td>57.0</td>\n",
       "      <td>https://www.camara.leg.br/internet/deputado/ba...</td>\n",
       "      <td>dep.betopreto@camara.leg.br</td>\n",
       "      <td>deputado</td>\n",
       "    </tr>\n",
       "    <tr>\n",
       "      <th>10931</th>\n",
       "      <td>73476</td>\n",
       "      <td>09032024-073476</td>\n",
       "      <td>2024</td>\n",
       "      <td>Especial</td>\n",
       "      <td>CIENTE</td>\n",
       "      <td>18094870000132</td>\n",
       "      <td>MUNICIPIO DE SENHORA DOS REMEDIOS</td>\n",
       "      <td>MG</td>\n",
       "      <td>001</td>\n",
       "      <td>4.0</td>\n",
       "      <td>...</td>\n",
       "      <td>21</td>\n",
       "      <td>204524.0</td>\n",
       "      <td>https://dadosabertos.camara.leg.br/api/v2/depu...</td>\n",
       "      <td>PP</td>\n",
       "      <td>https://dadosabertos.camara.leg.br/api/v2/part...</td>\n",
       "      <td>MG</td>\n",
       "      <td>57.0</td>\n",
       "      <td>https://www.camara.leg.br/internet/deputado/ba...</td>\n",
       "      <td>dep.pinheirinho@camara.leg.br</td>\n",
       "      <td>deputado</td>\n",
       "    </tr>\n",
       "    <tr>\n",
       "      <th>10932</th>\n",
       "      <td>72488</td>\n",
       "      <td>09032024-072488</td>\n",
       "      <td>2024</td>\n",
       "      <td>Especial</td>\n",
       "      <td>CIENTE</td>\n",
       "      <td>46362927000172</td>\n",
       "      <td>MUNICIPIO DE BROTAS</td>\n",
       "      <td>SP</td>\n",
       "      <td>104</td>\n",
       "      <td>4.0</td>\n",
       "      <td>...</td>\n",
       "      <td>21</td>\n",
       "      <td>178985.0</td>\n",
       "      <td>https://dadosabertos.camara.leg.br/api/v2/depu...</td>\n",
       "      <td>PL</td>\n",
       "      <td>https://dadosabertos.camara.leg.br/api/v2/part...</td>\n",
       "      <td>SP</td>\n",
       "      <td>57.0</td>\n",
       "      <td>https://www.camara.leg.br/internet/deputado/ba...</td>\n",
       "      <td>dep.miguellombardi@camara.leg.br</td>\n",
       "      <td>deputado</td>\n",
       "    </tr>\n",
       "    <tr>\n",
       "      <th>10933</th>\n",
       "      <td>69007</td>\n",
       "      <td>09032024-069007</td>\n",
       "      <td>2024</td>\n",
       "      <td>Especial</td>\n",
       "      <td>CIENTE</td>\n",
       "      <td>02295772000123</td>\n",
       "      <td>MUNICIPIO DE GOIAS</td>\n",
       "      <td>GO</td>\n",
       "      <td>104</td>\n",
       "      <td>4.0</td>\n",
       "      <td>...</td>\n",
       "      <td>21</td>\n",
       "      <td>74371.0</td>\n",
       "      <td>https://dadosabertos.camara.leg.br/api/v2/depu...</td>\n",
       "      <td>PT</td>\n",
       "      <td>https://dadosabertos.camara.leg.br/api/v2/part...</td>\n",
       "      <td>GO</td>\n",
       "      <td>57.0</td>\n",
       "      <td>https://www.camara.leg.br/internet/deputado/ba...</td>\n",
       "      <td>dep.rubensotoni@camara.leg.br</td>\n",
       "      <td>deputado</td>\n",
       "    </tr>\n",
       "  </tbody>\n",
       "</table>\n",
       "<p>10934 rows × 36 columns</p>\n",
       "</div>"
      ],
      "text/plain": [
       "       id_plano_acao codigo_plano_acao  ano_plano_acao modalidade_plano_acao  \\\n",
       "0              69182   09032024-069182            2024              Especial   \n",
       "1              64478   09032024-064478            2024              Especial   \n",
       "2              64487   09032024-064487            2024              Especial   \n",
       "3              72493   09032024-072493            2024              Especial   \n",
       "4              73453   09032024-073453            2024              Especial   \n",
       "...              ...               ...             ...                   ...   \n",
       "10929          65930   09032024-065930            2024              Especial   \n",
       "10930          74317   09032024-074317            2024              Especial   \n",
       "10931          73476   09032024-073476            2024              Especial   \n",
       "10932          72488   09032024-072488            2024              Especial   \n",
       "10933          69007   09032024-069007            2024              Especial   \n",
       "\n",
       "      situacao_plano_acao cnpj_beneficiario_plano_acao  \\\n",
       "0                  CIENTE               95990131000170   \n",
       "1                  CIENTE               41522186000126   \n",
       "2                  CIENTE               01612590000176   \n",
       "3                  CIENTE               18114264000131   \n",
       "4                  CIENTE               18114264000131   \n",
       "...                   ...                          ...   \n",
       "10929              CIENTE               14197768000101   \n",
       "10930              CIENTE               75368928000122   \n",
       "10931              CIENTE               18094870000132   \n",
       "10932              CIENTE               46362927000172   \n",
       "10933              CIENTE               02295772000123   \n",
       "\n",
       "                nome_beneficiario_plano_acao uf_beneficiario_plano_acao  \\\n",
       "0                MUNICIPIO DE NOVA ITABERABA                         SC   \n",
       "1      MUNICIPIO DE PASSAGEM FRANCA DO PIAUI                         PI   \n",
       "2                MUNICIPIO DE MILTON BRANDAO                         PI   \n",
       "3                  MUNICIPIO DE ESPERA FELIZ                         MG   \n",
       "4                  MUNICIPIO DE ESPERA FELIZ                         MG   \n",
       "...                                      ...                        ...   \n",
       "10929                   MUNICIPIO DE BREJOES                         BA   \n",
       "10930                   MUNICIPIO DE MAMBORE                         PR   \n",
       "10931      MUNICIPIO DE SENHORA DOS REMEDIOS                         MG   \n",
       "10932                    MUNICIPIO DE BROTAS                         SP   \n",
       "10933                     MUNICIPIO DE GOIAS                         GO   \n",
       "\n",
       "      codigo_banco_plano_acao  codigo_situacao_dado_bancario_plano_acao  ...  \\\n",
       "0                         104                                       4.0  ...   \n",
       "1                         001                                       4.0  ...   \n",
       "2                         104                                       4.0  ...   \n",
       "3                         104                                       4.0  ...   \n",
       "4                         104                                       4.0  ...   \n",
       "...                       ...                                       ...  ...   \n",
       "10929                     104                                       4.0  ...   \n",
       "10930                     104                                       4.0  ...   \n",
       "10931                     001                                       4.0  ...   \n",
       "10932                     104                                       4.0  ...   \n",
       "10933                     104                                       4.0  ...   \n",
       "\n",
       "      id_programa        id  \\\n",
       "0              21  160604.0   \n",
       "1              21       NaN   \n",
       "2              21       NaN   \n",
       "3              21  178895.0   \n",
       "4              21  204524.0   \n",
       "...           ...       ...   \n",
       "10929          21  178857.0   \n",
       "10930          21  220698.0   \n",
       "10931          21  204524.0   \n",
       "10932          21  178985.0   \n",
       "10933          21   74371.0   \n",
       "\n",
       "                                                     uri  partido  \\\n",
       "0      https://dadosabertos.camara.leg.br/api/v2/depu...       PT   \n",
       "1                                                    NaN      PSD   \n",
       "2                                                    NaN      PSD   \n",
       "3      https://dadosabertos.camara.leg.br/api/v2/depu...      PSD   \n",
       "4      https://dadosabertos.camara.leg.br/api/v2/depu...       PP   \n",
       "...                                                  ...      ...   \n",
       "10929  https://dadosabertos.camara.leg.br/api/v2/depu...       PT   \n",
       "10930  https://dadosabertos.camara.leg.br/api/v2/depu...      PSD   \n",
       "10931  https://dadosabertos.camara.leg.br/api/v2/depu...       PP   \n",
       "10932  https://dadosabertos.camara.leg.br/api/v2/depu...       PL   \n",
       "10933  https://dadosabertos.camara.leg.br/api/v2/depu...       PT   \n",
       "\n",
       "                                              uriPartido  uf idLegislatura  \\\n",
       "0      https://dadosabertos.camara.leg.br/api/v2/part...  SC          57.0   \n",
       "1                                                    NaN  PI           NaN   \n",
       "2                                                    NaN  PI           NaN   \n",
       "3      https://dadosabertos.camara.leg.br/api/v2/part...  MG          57.0   \n",
       "4      https://dadosabertos.camara.leg.br/api/v2/part...  MG          57.0   \n",
       "...                                                  ...  ..           ...   \n",
       "10929  https://dadosabertos.camara.leg.br/api/v2/part...  BA          57.0   \n",
       "10930  https://dadosabertos.camara.leg.br/api/v2/part...  PR          57.0   \n",
       "10931  https://dadosabertos.camara.leg.br/api/v2/part...  MG          57.0   \n",
       "10932  https://dadosabertos.camara.leg.br/api/v2/part...  SP          57.0   \n",
       "10933  https://dadosabertos.camara.leg.br/api/v2/part...  GO          57.0   \n",
       "\n",
       "                                                 urlFoto  \\\n",
       "0      https://www.camara.leg.br/internet/deputado/ba...   \n",
       "1                                                    NaN   \n",
       "2                                                    NaN   \n",
       "3      https://www.camara.leg.br/internet/deputado/ba...   \n",
       "4      https://www.camara.leg.br/internet/deputado/ba...   \n",
       "...                                                  ...   \n",
       "10929  https://www.camara.leg.br/internet/deputado/ba...   \n",
       "10930  https://www.camara.leg.br/internet/deputado/ba...   \n",
       "10931  https://www.camara.leg.br/internet/deputado/ba...   \n",
       "10932  https://www.camara.leg.br/internet/deputado/ba...   \n",
       "10933  https://www.camara.leg.br/internet/deputado/ba...   \n",
       "\n",
       "                                  email     cargo  \n",
       "0          dep.pedrouczai@camara.leg.br  deputado  \n",
       "1                                   NaN   senador  \n",
       "2                                   NaN   senador  \n",
       "3       dep.misaelvarella@camara.leg.br  deputado  \n",
       "4         dep.pinheirinho@camara.leg.br  deputado  \n",
       "...                                 ...       ...  \n",
       "10929      dep.jorgesolla@camara.leg.br  deputado  \n",
       "10930       dep.betopreto@camara.leg.br  deputado  \n",
       "10931     dep.pinheirinho@camara.leg.br  deputado  \n",
       "10932  dep.miguellombardi@camara.leg.br  deputado  \n",
       "10933     dep.rubensotoni@camara.leg.br  deputado  \n",
       "\n",
       "[10934 rows x 36 columns]"
      ]
     },
     "execution_count": 7,
     "metadata": {},
     "output_type": "execute_result"
    }
   ],
   "source": [
    "# Merge com df_deputados\n",
    "df_emendas = df_transferencias.merge(\n",
    "    df_deputados,\n",
    "    on='nome',\n",
    "    how='left',\n",
    "    suffixes=('', '_deputado')\n",
    ")\n",
    "df_emendas['cargo']=None\n",
    "df_emendas.loc[df_emendas['partido'].notna(),['cargo']]='deputado'\n",
    "\n",
    "# Merge com df_senadores\n",
    "df_emendas = df_emendas.merge(\n",
    "    df_senadores,\n",
    "    on='nome',\n",
    "    how='left',\n",
    "    suffixes=('', '_senador')\n",
    ")\n",
    "#\n",
    "df_emendas.loc[df_emendas['partido_senador'].notna(),['cargo']]='senador'\n",
    "\n",
    "# Verifica se as colunas existem antes de usar fillna\n",
    "if 'partido_senador' in df_emendas.columns:\n",
    "    df_emendas['partido'] = df_emendas['partido'].fillna(df_emendas['partido_senador'])\n",
    "if 'uf_senador' in df_emendas.columns:\n",
    "    df_emendas['uf'] = df_emendas['uf'].fillna(df_emendas['uf_senador'])\n",
    "\n",
    "# Remover colunas extras se existirem\n",
    "df_emendas = df_emendas.drop(\n",
    "    columns=[col for col in ['partido_senador', 'uf_senador', 'partido_deputado', 'uf_deputado'] if col in df_emendas.columns]\n",
    ")\n",
    "\n",
    "# Resultado final\n",
    "df_emendas\n"
   ]
  },
  {
   "cell_type": "markdown",
   "id": "19fff581-45cf-4c99-ace1-481857b0136a",
   "metadata": {},
   "source": [
    "### Análise exploratória"
   ]
  },
  {
   "cell_type": "markdown",
   "id": "224fc52f-a485-49c6-8439-cc35f3804ad7",
   "metadata": {},
   "source": [
    "#### Quantidades de emendas\n",
    "\n",
    "Quantas emendas há por deputados ou senadores?"
   ]
  },
  {
   "cell_type": "code",
   "execution_count": 8,
   "id": "bf866b4f-6f29-442a-ad5b-769fd672779a",
   "metadata": {
    "colab": {
     "base_uri": "https://localhost:8080/",
     "height": 178
    },
    "id": "_esEBhOmemyu",
    "outputId": "94744179-ca51-4d13-9a57-6df8e020a6ec"
   },
   "outputs": [
    {
     "data": {
      "text/plain": [
       "cargo\n",
       "deputado    8524\n",
       "senador     2077\n",
       "Name: count, dtype: int64"
      ]
     },
     "execution_count": 8,
     "metadata": {},
     "output_type": "execute_result"
    }
   ],
   "source": [
    "df_emendas.cargo.value_counts()"
   ]
  },
  {
   "cell_type": "code",
   "execution_count": 9,
   "id": "803bc0c6-617e-4058-bd22-1ea91ab17009",
   "metadata": {},
   "outputs": [
    {
     "data": {
      "text/plain": [
       "partido\n",
       "PL               1620\n",
       "PT               1080\n",
       "PP                903\n",
       "PSD               878\n",
       "UNIÃO             875\n",
       "MDB               710\n",
       "REPUBLICANOS      698\n",
       "PDT               366\n",
       "PSDB              260\n",
       "PODE              226\n",
       "PSB               220\n",
       "PRD               168\n",
       "AVANTE            161\n",
       "CIDADANIA         133\n",
       "PCdoB              79\n",
       "SOLIDARIEDADE      74\n",
       "PV                 49\n",
       "NOVO               15\n",
       "REDE                7\n",
       "PSOL                2\n",
       "Name: count, dtype: int64"
      ]
     },
     "execution_count": 9,
     "metadata": {},
     "output_type": "execute_result"
    }
   ],
   "source": [
    "# na Câmara\n",
    "df_emendas[df_emendas.cargo == \"deputado\"].partido.value_counts()"
   ]
  },
  {
   "cell_type": "code",
   "execution_count": 10,
   "id": "7f565fc7-a3ac-495b-b162-6c7302214e82",
   "metadata": {
    "scrolled": true
   },
   "outputs": [
    {
     "data": {
      "text/plain": [
       "partido\n",
       "MDB             495\n",
       "PSD             352\n",
       "PL              287\n",
       "PP              272\n",
       "UNIÃO           214\n",
       "PODEMOS         136\n",
       "REPUBLICANOS    126\n",
       "PT               88\n",
       "PSB              68\n",
       "PSDB             20\n",
       "PDT              19\n",
       "Name: count, dtype: int64"
      ]
     },
     "execution_count": 10,
     "metadata": {},
     "output_type": "execute_result"
    }
   ],
   "source": [
    "# no Senado\n",
    "df_emendas[df_emendas.cargo == \"senador\"].partido.value_counts()"
   ]
  },
  {
   "cell_type": "markdown",
   "id": "5dee5d0d-9c14-4b00-98a7-247baedc33fd",
   "metadata": {},
   "source": [
    "#### Valores totais por parlamentar"
   ]
  },
  {
   "cell_type": "code",
   "execution_count": 11,
   "id": "c2117dea-8db7-48b2-a493-c52308d228f5",
   "metadata": {
    "id": "GLBrg7ptdt5Y"
   },
   "outputs": [],
   "source": [
    "df_emendas[\"valor_emenda\"] = (\n",
    "    df_emendas[\"valor_custeio_plano_acao\"]\n",
    "    + df_emendas[\"valor_investimento_plano_acao\"]\n",
    ")"
   ]
  },
  {
   "cell_type": "code",
   "execution_count": 12,
   "id": "6b96f916-f61f-4534-bd94-daab22b25549",
   "metadata": {
    "id": "CnbdggEberg1"
   },
   "outputs": [],
   "source": [
    "colunas_agregacao = [\"nome\", \"partido\", \"uf\"]"
   ]
  },
  {
   "cell_type": "code",
   "execution_count": 13,
   "id": "db552a81-ee8c-4aec-99b7-52cb476c45a9",
   "metadata": {},
   "outputs": [
    {
     "data": {
      "text/html": [
       "<div>\n",
       "<style scoped>\n",
       "    .dataframe tbody tr th:only-of-type {\n",
       "        vertical-align: middle;\n",
       "    }\n",
       "\n",
       "    .dataframe tbody tr th {\n",
       "        vertical-align: top;\n",
       "    }\n",
       "\n",
       "    .dataframe thead th {\n",
       "        text-align: right;\n",
       "    }\n",
       "</style>\n",
       "<table border=\"1\" class=\"dataframe\">\n",
       "  <thead>\n",
       "    <tr style=\"text-align: right;\">\n",
       "      <th></th>\n",
       "      <th>nome</th>\n",
       "      <th>partido</th>\n",
       "      <th>uf</th>\n",
       "      <th>cargo</th>\n",
       "    </tr>\n",
       "  </thead>\n",
       "  <tbody>\n",
       "    <tr>\n",
       "      <th>0</th>\n",
       "      <td>Pedro Uczai</td>\n",
       "      <td>PT</td>\n",
       "      <td>SC</td>\n",
       "      <td>deputado</td>\n",
       "    </tr>\n",
       "    <tr>\n",
       "      <th>1</th>\n",
       "      <td>Jussara Lima</td>\n",
       "      <td>PSD</td>\n",
       "      <td>PI</td>\n",
       "      <td>senador</td>\n",
       "    </tr>\n",
       "    <tr>\n",
       "      <th>2</th>\n",
       "      <td>Jussara Lima</td>\n",
       "      <td>PSD</td>\n",
       "      <td>PI</td>\n",
       "      <td>senador</td>\n",
       "    </tr>\n",
       "    <tr>\n",
       "      <th>3</th>\n",
       "      <td>Misael Varella</td>\n",
       "      <td>PSD</td>\n",
       "      <td>MG</td>\n",
       "      <td>deputado</td>\n",
       "    </tr>\n",
       "    <tr>\n",
       "      <th>4</th>\n",
       "      <td>Pinheirinho</td>\n",
       "      <td>PP</td>\n",
       "      <td>MG</td>\n",
       "      <td>deputado</td>\n",
       "    </tr>\n",
       "    <tr>\n",
       "      <th>...</th>\n",
       "      <td>...</td>\n",
       "      <td>...</td>\n",
       "      <td>...</td>\n",
       "      <td>...</td>\n",
       "    </tr>\n",
       "    <tr>\n",
       "      <th>10929</th>\n",
       "      <td>Jorge Solla</td>\n",
       "      <td>PT</td>\n",
       "      <td>BA</td>\n",
       "      <td>deputado</td>\n",
       "    </tr>\n",
       "    <tr>\n",
       "      <th>10930</th>\n",
       "      <td>Beto Preto</td>\n",
       "      <td>PSD</td>\n",
       "      <td>PR</td>\n",
       "      <td>deputado</td>\n",
       "    </tr>\n",
       "    <tr>\n",
       "      <th>10931</th>\n",
       "      <td>Pinheirinho</td>\n",
       "      <td>PP</td>\n",
       "      <td>MG</td>\n",
       "      <td>deputado</td>\n",
       "    </tr>\n",
       "    <tr>\n",
       "      <th>10932</th>\n",
       "      <td>Miguel Lombardi</td>\n",
       "      <td>PL</td>\n",
       "      <td>SP</td>\n",
       "      <td>deputado</td>\n",
       "    </tr>\n",
       "    <tr>\n",
       "      <th>10933</th>\n",
       "      <td>Rubens Otoni</td>\n",
       "      <td>PT</td>\n",
       "      <td>GO</td>\n",
       "      <td>deputado</td>\n",
       "    </tr>\n",
       "  </tbody>\n",
       "</table>\n",
       "<p>10934 rows × 4 columns</p>\n",
       "</div>"
      ],
      "text/plain": [
       "                  nome partido  uf     cargo\n",
       "0          Pedro Uczai      PT  SC  deputado\n",
       "1         Jussara Lima     PSD  PI   senador\n",
       "2         Jussara Lima     PSD  PI   senador\n",
       "3       Misael Varella     PSD  MG  deputado\n",
       "4          Pinheirinho      PP  MG  deputado\n",
       "...                ...     ...  ..       ...\n",
       "10929      Jorge Solla      PT  BA  deputado\n",
       "10930       Beto Preto     PSD  PR  deputado\n",
       "10931      Pinheirinho      PP  MG  deputado\n",
       "10932  Miguel Lombardi      PL  SP  deputado\n",
       "10933     Rubens Otoni      PT  GO  deputado\n",
       "\n",
       "[10934 rows x 4 columns]"
      ]
     },
     "execution_count": 13,
     "metadata": {},
     "output_type": "execute_result"
    }
   ],
   "source": [
    "df_emendas[colunas_agregacao+[\"cargo\"]]"
   ]
  },
  {
   "cell_type": "markdown",
   "id": "8593d8f1-3743-450c-ad06-74a898139bf6",
   "metadata": {},
   "source": [
    "##### Câmara"
   ]
  },
  {
   "cell_type": "code",
   "execution_count": 14,
   "id": "9dcad2c1-ba0e-4234-a435-e6e14696fa94",
   "metadata": {
    "colab": {
     "base_uri": "https://localhost:8080/",
     "height": 429
    },
    "id": "yRt89N3Zeuu8",
    "outputId": "95c85b93-187d-4017-b814-56cadbc706b3"
   },
   "outputs": [
    {
     "data": {
      "text/plain": [
       "nome                      partido        uf\n",
       "Yury do Paredão           MDB            CE    18935792.0\n",
       "Robério Monteiro          PDT            CE    18935792.0\n",
       "Roberto Duarte            REPUBLICANOS   AC    18935792.0\n",
       "Marcos Aurélio Sampaio    PSD            PI    18935792.0\n",
       "Pastor Sargento Isidório  AVANTE         BA    18935792.0\n",
       "Paulinho da Força         SOLIDARIEDADE  SP    18935792.0\n",
       "Pezenti                   MDB            SC    18935792.0\n",
       "Pinheirinho               PP             MG    18935792.0\n",
       "Duda Ramos                MDB            RR    18935792.0\n",
       "Emanuel Pinheiro Neto     MDB            MT    18935792.0\n",
       "José Nelto                UNIÃO          GO    18935792.0\n",
       "Idilvan Alencar           PDT            CE    18935792.0\n",
       "Fabio Schiochet           UNIÃO          SC    18935792.0\n",
       "Meire Serafim             UNIÃO          AC    18935792.0\n",
       "Luiz Fernando Faria       PSD            MG    18935792.0\n",
       "Name: valor_emenda, dtype: float64"
      ]
     },
     "execution_count": 14,
     "metadata": {},
     "output_type": "execute_result"
    }
   ],
   "source": [
    "df_emendas_deputados = (\n",
    "    df_emendas[df_emendas['cargo']=='deputado']\n",
    "    .groupby(colunas_agregacao)\n",
    "    .sum()\n",
    "    ['valor_emenda']\n",
    "    .sort_values(ascending=False)\n",
    "    .head(15)\n",
    ")\n",
    "df_emendas_deputados\n"
   ]
  },
  {
   "cell_type": "code",
   "execution_count": 21,
   "id": "d5aee8ae-4d36-4055-8ab6-08de1828433e",
   "metadata": {
    "colab": {
     "base_uri": "https://localhost:8080/",
     "height": 427
    },
    "id": "hZaJoAxEe0qt",
    "outputId": "05fef776-6f17-42f9-bc32-5f7bb5072b30"
   },
   "outputs": [
    {
     "data": {
      "application/vnd.plotly.v1+json": {
       "config": {
        "plotlyServerURL": "https://plot.ly"
       },
       "data": [
        {
         "marker": {
          "color": "skyblue"
         },
         "orientation": "h",
         "type": "bar",
         "x": [
          18935792,
          18935792,
          18935792,
          18935792,
          18935792,
          18935792,
          18935792,
          18935792,
          18935792,
          18935792,
          18935792,
          18935792,
          18935792,
          18935792,
          18935792
         ],
         "y": [
          "Yury do Paredão (MDB/CE)",
          "Robério Monteiro (PDT/CE)",
          "Roberto Duarte (REPUBLICANOS/AC)",
          "Marcos Aurélio Sampaio (PSD/PI)",
          "Pastor Sargento Isidório (AVANTE/BA)",
          "Paulinho da Força (SOLIDARIEDADE/SP)",
          "Pezenti (MDB/SC)",
          "Pinheirinho (PP/MG)",
          "Duda Ramos (MDB/RR)",
          "Emanuel Pinheiro Neto (MDB/MT)",
          "José Nelto (UNIÃO/GO)",
          "Idilvan Alencar (PDT/CE)",
          "Fabio Schiochet (UNIÃO/SC)",
          "Meire Serafim (UNIÃO/AC)",
          "Luiz Fernando Faria (PSD/MG)"
         ]
        }
       ],
       "layout": {
        "annotations": [
         {
          "align": "left",
          "font": {
           "size": 10
          },
          "showarrow": false,
          "text": "18,935,792.00",
          "textangle": 0,
          "x": 18935792,
          "xanchor": "right",
          "y": 0
         },
         {
          "align": "left",
          "font": {
           "size": 10
          },
          "showarrow": false,
          "text": "18,935,792.00",
          "textangle": 0,
          "x": 18935792,
          "xanchor": "right",
          "y": 1
         },
         {
          "align": "left",
          "font": {
           "size": 10
          },
          "showarrow": false,
          "text": "18,935,792.00",
          "textangle": 0,
          "x": 18935792,
          "xanchor": "right",
          "y": 2
         },
         {
          "align": "left",
          "font": {
           "size": 10
          },
          "showarrow": false,
          "text": "18,935,792.00",
          "textangle": 0,
          "x": 18935792,
          "xanchor": "right",
          "y": 3
         },
         {
          "align": "left",
          "font": {
           "size": 10
          },
          "showarrow": false,
          "text": "18,935,792.00",
          "textangle": 0,
          "x": 18935792,
          "xanchor": "right",
          "y": 4
         },
         {
          "align": "left",
          "font": {
           "size": 10
          },
          "showarrow": false,
          "text": "18,935,792.00",
          "textangle": 0,
          "x": 18935792,
          "xanchor": "right",
          "y": 5
         },
         {
          "align": "left",
          "font": {
           "size": 10
          },
          "showarrow": false,
          "text": "18,935,792.00",
          "textangle": 0,
          "x": 18935792,
          "xanchor": "right",
          "y": 6
         },
         {
          "align": "left",
          "font": {
           "size": 10
          },
          "showarrow": false,
          "text": "18,935,792.00",
          "textangle": 0,
          "x": 18935792,
          "xanchor": "right",
          "y": 7
         },
         {
          "align": "left",
          "font": {
           "size": 10
          },
          "showarrow": false,
          "text": "18,935,792.00",
          "textangle": 0,
          "x": 18935792,
          "xanchor": "right",
          "y": 8
         },
         {
          "align": "left",
          "font": {
           "size": 10
          },
          "showarrow": false,
          "text": "18,935,792.00",
          "textangle": 0,
          "x": 18935792,
          "xanchor": "right",
          "y": 9
         },
         {
          "align": "left",
          "font": {
           "size": 10
          },
          "showarrow": false,
          "text": "18,935,792.00",
          "textangle": 0,
          "x": 18935792,
          "xanchor": "right",
          "y": 10
         },
         {
          "align": "left",
          "font": {
           "size": 10
          },
          "showarrow": false,
          "text": "18,935,792.00",
          "textangle": 0,
          "x": 18935792,
          "xanchor": "right",
          "y": 11
         },
         {
          "align": "left",
          "font": {
           "size": 10
          },
          "showarrow": false,
          "text": "18,935,792.00",
          "textangle": 0,
          "x": 18935792,
          "xanchor": "right",
          "y": 12
         },
         {
          "align": "left",
          "font": {
           "size": 10
          },
          "showarrow": false,
          "text": "18,935,792.00",
          "textangle": 0,
          "x": 18935792,
          "xanchor": "right",
          "y": 13
         },
         {
          "align": "left",
          "font": {
           "size": 10
          },
          "showarrow": false,
          "text": "18,935,792.00",
          "textangle": 0,
          "x": 18935792,
          "xanchor": "right",
          "y": 14
         }
        ],
        "bargap": 0.1,
        "font": {
         "size": 12
        },
        "height": 600,
        "template": {
         "data": {
          "bar": [
           {
            "error_x": {
             "color": "#2a3f5f"
            },
            "error_y": {
             "color": "#2a3f5f"
            },
            "marker": {
             "line": {
              "color": "#E5ECF6",
              "width": 0.5
             },
             "pattern": {
              "fillmode": "overlay",
              "size": 10,
              "solidity": 0.2
             }
            },
            "type": "bar"
           }
          ],
          "barpolar": [
           {
            "marker": {
             "line": {
              "color": "#E5ECF6",
              "width": 0.5
             },
             "pattern": {
              "fillmode": "overlay",
              "size": 10,
              "solidity": 0.2
             }
            },
            "type": "barpolar"
           }
          ],
          "carpet": [
           {
            "aaxis": {
             "endlinecolor": "#2a3f5f",
             "gridcolor": "white",
             "linecolor": "white",
             "minorgridcolor": "white",
             "startlinecolor": "#2a3f5f"
            },
            "baxis": {
             "endlinecolor": "#2a3f5f",
             "gridcolor": "white",
             "linecolor": "white",
             "minorgridcolor": "white",
             "startlinecolor": "#2a3f5f"
            },
            "type": "carpet"
           }
          ],
          "choropleth": [
           {
            "colorbar": {
             "outlinewidth": 0,
             "ticks": ""
            },
            "type": "choropleth"
           }
          ],
          "contour": [
           {
            "colorbar": {
             "outlinewidth": 0,
             "ticks": ""
            },
            "colorscale": [
             [
              0,
              "#0d0887"
             ],
             [
              0.1111111111111111,
              "#46039f"
             ],
             [
              0.2222222222222222,
              "#7201a8"
             ],
             [
              0.3333333333333333,
              "#9c179e"
             ],
             [
              0.4444444444444444,
              "#bd3786"
             ],
             [
              0.5555555555555556,
              "#d8576b"
             ],
             [
              0.6666666666666666,
              "#ed7953"
             ],
             [
              0.7777777777777778,
              "#fb9f3a"
             ],
             [
              0.8888888888888888,
              "#fdca26"
             ],
             [
              1,
              "#f0f921"
             ]
            ],
            "type": "contour"
           }
          ],
          "contourcarpet": [
           {
            "colorbar": {
             "outlinewidth": 0,
             "ticks": ""
            },
            "type": "contourcarpet"
           }
          ],
          "heatmap": [
           {
            "colorbar": {
             "outlinewidth": 0,
             "ticks": ""
            },
            "colorscale": [
             [
              0,
              "#0d0887"
             ],
             [
              0.1111111111111111,
              "#46039f"
             ],
             [
              0.2222222222222222,
              "#7201a8"
             ],
             [
              0.3333333333333333,
              "#9c179e"
             ],
             [
              0.4444444444444444,
              "#bd3786"
             ],
             [
              0.5555555555555556,
              "#d8576b"
             ],
             [
              0.6666666666666666,
              "#ed7953"
             ],
             [
              0.7777777777777778,
              "#fb9f3a"
             ],
             [
              0.8888888888888888,
              "#fdca26"
             ],
             [
              1,
              "#f0f921"
             ]
            ],
            "type": "heatmap"
           }
          ],
          "heatmapgl": [
           {
            "colorbar": {
             "outlinewidth": 0,
             "ticks": ""
            },
            "colorscale": [
             [
              0,
              "#0d0887"
             ],
             [
              0.1111111111111111,
              "#46039f"
             ],
             [
              0.2222222222222222,
              "#7201a8"
             ],
             [
              0.3333333333333333,
              "#9c179e"
             ],
             [
              0.4444444444444444,
              "#bd3786"
             ],
             [
              0.5555555555555556,
              "#d8576b"
             ],
             [
              0.6666666666666666,
              "#ed7953"
             ],
             [
              0.7777777777777778,
              "#fb9f3a"
             ],
             [
              0.8888888888888888,
              "#fdca26"
             ],
             [
              1,
              "#f0f921"
             ]
            ],
            "type": "heatmapgl"
           }
          ],
          "histogram": [
           {
            "marker": {
             "pattern": {
              "fillmode": "overlay",
              "size": 10,
              "solidity": 0.2
             }
            },
            "type": "histogram"
           }
          ],
          "histogram2d": [
           {
            "colorbar": {
             "outlinewidth": 0,
             "ticks": ""
            },
            "colorscale": [
             [
              0,
              "#0d0887"
             ],
             [
              0.1111111111111111,
              "#46039f"
             ],
             [
              0.2222222222222222,
              "#7201a8"
             ],
             [
              0.3333333333333333,
              "#9c179e"
             ],
             [
              0.4444444444444444,
              "#bd3786"
             ],
             [
              0.5555555555555556,
              "#d8576b"
             ],
             [
              0.6666666666666666,
              "#ed7953"
             ],
             [
              0.7777777777777778,
              "#fb9f3a"
             ],
             [
              0.8888888888888888,
              "#fdca26"
             ],
             [
              1,
              "#f0f921"
             ]
            ],
            "type": "histogram2d"
           }
          ],
          "histogram2dcontour": [
           {
            "colorbar": {
             "outlinewidth": 0,
             "ticks": ""
            },
            "colorscale": [
             [
              0,
              "#0d0887"
             ],
             [
              0.1111111111111111,
              "#46039f"
             ],
             [
              0.2222222222222222,
              "#7201a8"
             ],
             [
              0.3333333333333333,
              "#9c179e"
             ],
             [
              0.4444444444444444,
              "#bd3786"
             ],
             [
              0.5555555555555556,
              "#d8576b"
             ],
             [
              0.6666666666666666,
              "#ed7953"
             ],
             [
              0.7777777777777778,
              "#fb9f3a"
             ],
             [
              0.8888888888888888,
              "#fdca26"
             ],
             [
              1,
              "#f0f921"
             ]
            ],
            "type": "histogram2dcontour"
           }
          ],
          "mesh3d": [
           {
            "colorbar": {
             "outlinewidth": 0,
             "ticks": ""
            },
            "type": "mesh3d"
           }
          ],
          "parcoords": [
           {
            "line": {
             "colorbar": {
              "outlinewidth": 0,
              "ticks": ""
             }
            },
            "type": "parcoords"
           }
          ],
          "pie": [
           {
            "automargin": true,
            "type": "pie"
           }
          ],
          "scatter": [
           {
            "fillpattern": {
             "fillmode": "overlay",
             "size": 10,
             "solidity": 0.2
            },
            "type": "scatter"
           }
          ],
          "scatter3d": [
           {
            "line": {
             "colorbar": {
              "outlinewidth": 0,
              "ticks": ""
             }
            },
            "marker": {
             "colorbar": {
              "outlinewidth": 0,
              "ticks": ""
             }
            },
            "type": "scatter3d"
           }
          ],
          "scattercarpet": [
           {
            "marker": {
             "colorbar": {
              "outlinewidth": 0,
              "ticks": ""
             }
            },
            "type": "scattercarpet"
           }
          ],
          "scattergeo": [
           {
            "marker": {
             "colorbar": {
              "outlinewidth": 0,
              "ticks": ""
             }
            },
            "type": "scattergeo"
           }
          ],
          "scattergl": [
           {
            "marker": {
             "colorbar": {
              "outlinewidth": 0,
              "ticks": ""
             }
            },
            "type": "scattergl"
           }
          ],
          "scattermapbox": [
           {
            "marker": {
             "colorbar": {
              "outlinewidth": 0,
              "ticks": ""
             }
            },
            "type": "scattermapbox"
           }
          ],
          "scatterpolar": [
           {
            "marker": {
             "colorbar": {
              "outlinewidth": 0,
              "ticks": ""
             }
            },
            "type": "scatterpolar"
           }
          ],
          "scatterpolargl": [
           {
            "marker": {
             "colorbar": {
              "outlinewidth": 0,
              "ticks": ""
             }
            },
            "type": "scatterpolargl"
           }
          ],
          "scatterternary": [
           {
            "marker": {
             "colorbar": {
              "outlinewidth": 0,
              "ticks": ""
             }
            },
            "type": "scatterternary"
           }
          ],
          "surface": [
           {
            "colorbar": {
             "outlinewidth": 0,
             "ticks": ""
            },
            "colorscale": [
             [
              0,
              "#0d0887"
             ],
             [
              0.1111111111111111,
              "#46039f"
             ],
             [
              0.2222222222222222,
              "#7201a8"
             ],
             [
              0.3333333333333333,
              "#9c179e"
             ],
             [
              0.4444444444444444,
              "#bd3786"
             ],
             [
              0.5555555555555556,
              "#d8576b"
             ],
             [
              0.6666666666666666,
              "#ed7953"
             ],
             [
              0.7777777777777778,
              "#fb9f3a"
             ],
             [
              0.8888888888888888,
              "#fdca26"
             ],
             [
              1,
              "#f0f921"
             ]
            ],
            "type": "surface"
           }
          ],
          "table": [
           {
            "cells": {
             "fill": {
              "color": "#EBF0F8"
             },
             "line": {
              "color": "white"
             }
            },
            "header": {
             "fill": {
              "color": "#C8D4E3"
             },
             "line": {
              "color": "white"
             }
            },
            "type": "table"
           }
          ]
         },
         "layout": {
          "annotationdefaults": {
           "arrowcolor": "#2a3f5f",
           "arrowhead": 0,
           "arrowwidth": 1
          },
          "autotypenumbers": "strict",
          "coloraxis": {
           "colorbar": {
            "outlinewidth": 0,
            "ticks": ""
           }
          },
          "colorscale": {
           "diverging": [
            [
             0,
             "#8e0152"
            ],
            [
             0.1,
             "#c51b7d"
            ],
            [
             0.2,
             "#de77ae"
            ],
            [
             0.3,
             "#f1b6da"
            ],
            [
             0.4,
             "#fde0ef"
            ],
            [
             0.5,
             "#f7f7f7"
            ],
            [
             0.6,
             "#e6f5d0"
            ],
            [
             0.7,
             "#b8e186"
            ],
            [
             0.8,
             "#7fbc41"
            ],
            [
             0.9,
             "#4d9221"
            ],
            [
             1,
             "#276419"
            ]
           ],
           "sequential": [
            [
             0,
             "#0d0887"
            ],
            [
             0.1111111111111111,
             "#46039f"
            ],
            [
             0.2222222222222222,
             "#7201a8"
            ],
            [
             0.3333333333333333,
             "#9c179e"
            ],
            [
             0.4444444444444444,
             "#bd3786"
            ],
            [
             0.5555555555555556,
             "#d8576b"
            ],
            [
             0.6666666666666666,
             "#ed7953"
            ],
            [
             0.7777777777777778,
             "#fb9f3a"
            ],
            [
             0.8888888888888888,
             "#fdca26"
            ],
            [
             1,
             "#f0f921"
            ]
           ],
           "sequentialminus": [
            [
             0,
             "#0d0887"
            ],
            [
             0.1111111111111111,
             "#46039f"
            ],
            [
             0.2222222222222222,
             "#7201a8"
            ],
            [
             0.3333333333333333,
             "#9c179e"
            ],
            [
             0.4444444444444444,
             "#bd3786"
            ],
            [
             0.5555555555555556,
             "#d8576b"
            ],
            [
             0.6666666666666666,
             "#ed7953"
            ],
            [
             0.7777777777777778,
             "#fb9f3a"
            ],
            [
             0.8888888888888888,
             "#fdca26"
            ],
            [
             1,
             "#f0f921"
            ]
           ]
          },
          "colorway": [
           "#636efa",
           "#EF553B",
           "#00cc96",
           "#ab63fa",
           "#FFA15A",
           "#19d3f3",
           "#FF6692",
           "#B6E880",
           "#FF97FF",
           "#FECB52"
          ],
          "font": {
           "color": "#2a3f5f"
          },
          "geo": {
           "bgcolor": "white",
           "lakecolor": "white",
           "landcolor": "#E5ECF6",
           "showlakes": true,
           "showland": true,
           "subunitcolor": "white"
          },
          "hoverlabel": {
           "align": "left"
          },
          "hovermode": "closest",
          "mapbox": {
           "style": "light"
          },
          "paper_bgcolor": "white",
          "plot_bgcolor": "#E5ECF6",
          "polar": {
           "angularaxis": {
            "gridcolor": "white",
            "linecolor": "white",
            "ticks": ""
           },
           "bgcolor": "#E5ECF6",
           "radialaxis": {
            "gridcolor": "white",
            "linecolor": "white",
            "ticks": ""
           }
          },
          "scene": {
           "xaxis": {
            "backgroundcolor": "#E5ECF6",
            "gridcolor": "white",
            "gridwidth": 2,
            "linecolor": "white",
            "showbackground": true,
            "ticks": "",
            "zerolinecolor": "white"
           },
           "yaxis": {
            "backgroundcolor": "#E5ECF6",
            "gridcolor": "white",
            "gridwidth": 2,
            "linecolor": "white",
            "showbackground": true,
            "ticks": "",
            "zerolinecolor": "white"
           },
           "zaxis": {
            "backgroundcolor": "#E5ECF6",
            "gridcolor": "white",
            "gridwidth": 2,
            "linecolor": "white",
            "showbackground": true,
            "ticks": "",
            "zerolinecolor": "white"
           }
          },
          "shapedefaults": {
           "line": {
            "color": "#2a3f5f"
           }
          },
          "ternary": {
           "aaxis": {
            "gridcolor": "white",
            "linecolor": "white",
            "ticks": ""
           },
           "baxis": {
            "gridcolor": "white",
            "linecolor": "white",
            "ticks": ""
           },
           "bgcolor": "#E5ECF6",
           "caxis": {
            "gridcolor": "white",
            "linecolor": "white",
            "ticks": ""
           }
          },
          "title": {
           "x": 0.05
          },
          "xaxis": {
           "automargin": true,
           "gridcolor": "white",
           "linecolor": "white",
           "ticks": "",
           "title": {
            "standoff": 15
           },
           "zerolinecolor": "white",
           "zerolinewidth": 2
          },
          "yaxis": {
           "automargin": true,
           "gridcolor": "white",
           "linecolor": "white",
           "ticks": "",
           "title": {
            "standoff": 15
           },
           "zerolinecolor": "white",
           "zerolinewidth": 2
          }
         }
        },
        "title": {
         "text": "Top 10 Deputados por Valor de Emendas"
        },
        "width": 800,
        "xaxis": {
         "title": {
          "text": "Valor Total das Emendas"
         }
        },
        "yaxis": {
         "title": {
          "text": "Deputados"
         }
        }
       }
      },
      "image/png": "[encoded data removed]",
      "text/html": [
       "<div>                            <div id=\"c377518e-d74a-4bea-bb29-6efd65582535\" class=\"plotly-graph-div\" style=\"height:600px; width:800px;\"></div>            <script type=\"text/javascript\">                require([\"plotly\"], function(Plotly) {                    window.PLOTLYENV=window.PLOTLYENV || {};                                    if (document.getElementById(\"c377518e-d74a-4bea-bb29-6efd65582535\")) {                    Plotly.newPlot(                        \"c377518e-d74a-4bea-bb29-6efd65582535\",                        [{\"marker\":{\"color\":\"skyblue\"},\"orientation\":\"h\",\"x\":[18935792.0,18935792.0,18935792.0,18935792.0,18935792.0,18935792.0,18935792.0,18935792.0,18935792.0,18935792.0,18935792.0,18935792.0,18935792.0,18935792.0,18935792.0],\"y\":[\"Yury do Pared\\u00e3o (MDB\\u002fCE)\",\"Rob\\u00e9rio Monteiro (PDT\\u002fCE)\",\"Roberto Duarte (REPUBLICANOS\\u002fAC)\",\"Marcos Aur\\u00e9lio Sampaio (PSD\\u002fPI)\",\"Pastor Sargento Isid\\u00f3rio (AVANTE\\u002fBA)\",\"Paulinho da For\\u00e7a (SOLIDARIEDADE\\u002fSP)\",\"Pezenti (MDB\\u002fSC)\",\"Pinheirinho (PP\\u002fMG)\",\"Duda Ramos (MDB\\u002fRR)\",\"Emanuel Pinheiro Neto (MDB\\u002fMT)\",\"Jos\\u00e9 Nelto (UNI\\u00c3O\\u002fGO)\",\"Idilvan Alencar (PDT\\u002fCE)\",\"Fabio Schiochet (UNI\\u00c3O\\u002fSC)\",\"Meire Serafim (UNI\\u00c3O\\u002fAC)\",\"Luiz Fernando Faria (PSD\\u002fMG)\"],\"type\":\"bar\"}],                        {\"template\":{\"data\":{\"histogram2dcontour\":[{\"type\":\"histogram2dcontour\",\"colorbar\":{\"outlinewidth\":0,\"ticks\":\"\"},\"colorscale\":[[0.0,\"#0d0887\"],[0.1111111111111111,\"#46039f\"],[0.2222222222222222,\"#7201a8\"],[0.3333333333333333,\"#9c179e\"],[0.4444444444444444,\"#bd3786\"],[0.5555555555555556,\"#d8576b\"],[0.6666666666666666,\"#ed7953\"],[0.7777777777777778,\"#fb9f3a\"],[0.8888888888888888,\"#fdca26\"],[1.0,\"#f0f921\"]]}],\"choropleth\":[{\"type\":\"choropleth\",\"colorbar\":{\"outlinewidth\":0,\"ticks\":\"\"}}],\"histogram2d\":[{\"type\":\"histogram2d\",\"colorbar\":{\"outlinewidth\":0,\"ticks\":\"\"},\"colorscale\":[[0.0,\"#0d0887\"],[0.1111111111111111,\"#46039f\"],[0.2222222222222222,\"#7201a8\"],[0.3333333333333333,\"#9c179e\"],[0.4444444444444444,\"#bd3786\"],[0.5555555555555556,\"#d8576b\"],[0.6666666666666666,\"#ed7953\"],[0.7777777777777778,\"#fb9f3a\"],[0.8888888888888888,\"#fdca26\"],[1.0,\"#f0f921\"]]}],\"heatmap\":[{\"type\":\"heatmap\",\"colorbar\":{\"outlinewidth\":0,\"ticks\":\"\"},\"colorscale\":[[0.0,\"#0d0887\"],[0.1111111111111111,\"#46039f\"],[0.2222222222222222,\"#7201a8\"],[0.3333333333333333,\"#9c179e\"],[0.4444444444444444,\"#bd3786\"],[0.5555555555555556,\"#d8576b\"],[0.6666666666666666,\"#ed7953\"],[0.7777777777777778,\"#fb9f3a\"],[0.8888888888888888,\"#fdca26\"],[1.0,\"#f0f921\"]]}],\"heatmapgl\":[{\"type\":\"heatmapgl\",\"colorbar\":{\"outlinewidth\":0,\"ticks\":\"\"},\"colorscale\":[[0.0,\"#0d0887\"],[0.1111111111111111,\"#46039f\"],[0.2222222222222222,\"#7201a8\"],[0.3333333333333333,\"#9c179e\"],[0.4444444444444444,\"#bd3786\"],[0.5555555555555556,\"#d8576b\"],[0.6666666666666666,\"#ed7953\"],[0.7777777777777778,\"#fb9f3a\"],[0.8888888888888888,\"#fdca26\"],[1.0,\"#f0f921\"]]}],\"contourcarpet\":[{\"type\":\"contourcarpet\",\"colorbar\":{\"outlinewidth\":0,\"ticks\":\"\"}}],\"contour\":[{\"type\":\"contour\",\"colorbar\":{\"outlinewidth\":0,\"ticks\":\"\"},\"colorscale\":[[0.0,\"#0d0887\"],[0.1111111111111111,\"#46039f\"],[0.2222222222222222,\"#7201a8\"],[0.3333333333333333,\"#9c179e\"],[0.4444444444444444,\"#bd3786\"],[0.5555555555555556,\"#d8576b\"],[0.6666666666666666,\"#ed7953\"],[0.7777777777777778,\"#fb9f3a\"],[0.8888888888888888,\"#fdca26\"],[1.0,\"#f0f921\"]]}],\"surface\":[{\"type\":\"surface\",\"colorbar\":{\"outlinewidth\":0,\"ticks\":\"\"},\"colorscale\":[[0.0,\"#0d0887\"],[0.1111111111111111,\"#46039f\"],[0.2222222222222222,\"#7201a8\"],[0.3333333333333333,\"#9c179e\"],[0.4444444444444444,\"#bd3786\"],[0.5555555555555556,\"#d8576b\"],[0.6666666666666666,\"#ed7953\"],[0.7777777777777778,\"#fb9f3a\"],[0.8888888888888888,\"#fdca26\"],[1.0,\"#f0f921\"]]}],\"mesh3d\":[{\"type\":\"mesh3d\",\"colorbar\":{\"outlinewidth\":0,\"ticks\":\"\"}}],\"scatter\":[{\"fillpattern\":{\"fillmode\":\"overlay\",\"size\":10,\"solidity\":0.2},\"type\":\"scatter\"}],\"parcoords\":[{\"type\":\"parcoords\",\"line\":{\"colorbar\":{\"outlinewidth\":0,\"ticks\":\"\"}}}],\"scatterpolargl\":[{\"type\":\"scatterpolargl\",\"marker\":{\"colorbar\":{\"outlinewidth\":0,\"ticks\":\"\"}}}],\"bar\":[{\"error_x\":{\"color\":\"#2a3f5f\"},\"error_y\":{\"color\":\"#2a3f5f\"},\"marker\":{\"line\":{\"color\":\"#E5ECF6\",\"width\":0.5},\"pattern\":{\"fillmode\":\"overlay\",\"size\":10,\"solidity\":0.2}},\"type\":\"bar\"}],\"scattergeo\":[{\"type\":\"scattergeo\",\"marker\":{\"colorbar\":{\"outlinewidth\":0,\"ticks\":\"\"}}}],\"scatterpolar\":[{\"type\":\"scatterpolar\",\"marker\":{\"colorbar\":{\"outlinewidth\":0,\"ticks\":\"\"}}}],\"histogram\":[{\"marker\":{\"pattern\":{\"fillmode\":\"overlay\",\"size\":10,\"solidity\":0.2}},\"type\":\"histogram\"}],\"scattergl\":[{\"type\":\"scattergl\",\"marker\":{\"colorbar\":{\"outlinewidth\":0,\"ticks\":\"\"}}}],\"scatter3d\":[{\"type\":\"scatter3d\",\"line\":{\"colorbar\":{\"outlinewidth\":0,\"ticks\":\"\"}},\"marker\":{\"colorbar\":{\"outlinewidth\":0,\"ticks\":\"\"}}}],\"scattermapbox\":[{\"type\":\"scattermapbox\",\"marker\":{\"colorbar\":{\"outlinewidth\":0,\"ticks\":\"\"}}}],\"scatterternary\":[{\"type\":\"scatterternary\",\"marker\":{\"colorbar\":{\"outlinewidth\":0,\"ticks\":\"\"}}}],\"scattercarpet\":[{\"type\":\"scattercarpet\",\"marker\":{\"colorbar\":{\"outlinewidth\":0,\"ticks\":\"\"}}}],\"carpet\":[{\"aaxis\":{\"endlinecolor\":\"#2a3f5f\",\"gridcolor\":\"white\",\"linecolor\":\"white\",\"minorgridcolor\":\"white\",\"startlinecolor\":\"#2a3f5f\"},\"baxis\":{\"endlinecolor\":\"#2a3f5f\",\"gridcolor\":\"white\",\"linecolor\":\"white\",\"minorgridcolor\":\"white\",\"startlinecolor\":\"#2a3f5f\"},\"type\":\"carpet\"}],\"table\":[{\"cells\":{\"fill\":{\"color\":\"#EBF0F8\"},\"line\":{\"color\":\"white\"}},\"header\":{\"fill\":{\"color\":\"#C8D4E3\"},\"line\":{\"color\":\"white\"}},\"type\":\"table\"}],\"barpolar\":[{\"marker\":{\"line\":{\"color\":\"#E5ECF6\",\"width\":0.5},\"pattern\":{\"fillmode\":\"overlay\",\"size\":10,\"solidity\":0.2}},\"type\":\"barpolar\"}],\"pie\":[{\"automargin\":true,\"type\":\"pie\"}]},\"layout\":{\"autotypenumbers\":\"strict\",\"colorway\":[\"#636efa\",\"#EF553B\",\"#00cc96\",\"#ab63fa\",\"#FFA15A\",\"#19d3f3\",\"#FF6692\",\"#B6E880\",\"#FF97FF\",\"#FECB52\"],\"font\":{\"color\":\"#2a3f5f\"},\"hovermode\":\"closest\",\"hoverlabel\":{\"align\":\"left\"},\"paper_bgcolor\":\"white\",\"plot_bgcolor\":\"#E5ECF6\",\"polar\":{\"bgcolor\":\"#E5ECF6\",\"angularaxis\":{\"gridcolor\":\"white\",\"linecolor\":\"white\",\"ticks\":\"\"},\"radialaxis\":{\"gridcolor\":\"white\",\"linecolor\":\"white\",\"ticks\":\"\"}},\"ternary\":{\"bgcolor\":\"#E5ECF6\",\"aaxis\":{\"gridcolor\":\"white\",\"linecolor\":\"white\",\"ticks\":\"\"},\"baxis\":{\"gridcolor\":\"white\",\"linecolor\":\"white\",\"ticks\":\"\"},\"caxis\":{\"gridcolor\":\"white\",\"linecolor\":\"white\",\"ticks\":\"\"}},\"coloraxis\":{\"colorbar\":{\"outlinewidth\":0,\"ticks\":\"\"}},\"colorscale\":{\"sequential\":[[0.0,\"#0d0887\"],[0.1111111111111111,\"#46039f\"],[0.2222222222222222,\"#7201a8\"],[0.3333333333333333,\"#9c179e\"],[0.4444444444444444,\"#bd3786\"],[0.5555555555555556,\"#d8576b\"],[0.6666666666666666,\"#ed7953\"],[0.7777777777777778,\"#fb9f3a\"],[0.8888888888888888,\"#fdca26\"],[1.0,\"#f0f921\"]],\"sequentialminus\":[[0.0,\"#0d0887\"],[0.1111111111111111,\"#46039f\"],[0.2222222222222222,\"#7201a8\"],[0.3333333333333333,\"#9c179e\"],[0.4444444444444444,\"#bd3786\"],[0.5555555555555556,\"#d8576b\"],[0.6666666666666666,\"#ed7953\"],[0.7777777777777778,\"#fb9f3a\"],[0.8888888888888888,\"#fdca26\"],[1.0,\"#f0f921\"]],\"diverging\":[[0,\"#8e0152\"],[0.1,\"#c51b7d\"],[0.2,\"#de77ae\"],[0.3,\"#f1b6da\"],[0.4,\"#fde0ef\"],[0.5,\"#f7f7f7\"],[0.6,\"#e6f5d0\"],[0.7,\"#b8e186\"],[0.8,\"#7fbc41\"],[0.9,\"#4d9221\"],[1,\"#276419\"]]},\"xaxis\":{\"gridcolor\":\"white\",\"linecolor\":\"white\",\"ticks\":\"\",\"title\":{\"standoff\":15},\"zerolinecolor\":\"white\",\"automargin\":true,\"zerolinewidth\":2},\"yaxis\":{\"gridcolor\":\"white\",\"linecolor\":\"white\",\"ticks\":\"\",\"title\":{\"standoff\":15},\"zerolinecolor\":\"white\",\"automargin\":true,\"zerolinewidth\":2},\"scene\":{\"xaxis\":{\"backgroundcolor\":\"#E5ECF6\",\"gridcolor\":\"white\",\"linecolor\":\"white\",\"showbackground\":true,\"ticks\":\"\",\"zerolinecolor\":\"white\",\"gridwidth\":2},\"yaxis\":{\"backgroundcolor\":\"#E5ECF6\",\"gridcolor\":\"white\",\"linecolor\":\"white\",\"showbackground\":true,\"ticks\":\"\",\"zerolinecolor\":\"white\",\"gridwidth\":2},\"zaxis\":{\"backgroundcolor\":\"#E5ECF6\",\"gridcolor\":\"white\",\"linecolor\":\"white\",\"showbackground\":true,\"ticks\":\"\",\"zerolinecolor\":\"white\",\"gridwidth\":2}},\"shapedefaults\":{\"line\":{\"color\":\"#2a3f5f\"}},\"annotationdefaults\":{\"arrowcolor\":\"#2a3f5f\",\"arrowhead\":0,\"arrowwidth\":1},\"geo\":{\"bgcolor\":\"white\",\"landcolor\":\"#E5ECF6\",\"subunitcolor\":\"white\",\"showland\":true,\"showlakes\":true,\"lakecolor\":\"white\"},\"title\":{\"x\":0.05},\"mapbox\":{\"style\":\"light\"}}},\"font\":{\"size\":12},\"title\":{\"text\":\"Top 10 Deputados por Valor de Emendas\"},\"xaxis\":{\"title\":{\"text\":\"Valor Total das Emendas\"}},\"yaxis\":{\"title\":{\"text\":\"Deputados\"}},\"annotations\":[{\"align\":\"left\",\"font\":{\"size\":10},\"showarrow\":false,\"text\":\"18,935,792.00\",\"textangle\":0,\"x\":18935792.0,\"xanchor\":\"right\",\"y\":0},{\"align\":\"left\",\"font\":{\"size\":10},\"showarrow\":false,\"text\":\"18,935,792.00\",\"textangle\":0,\"x\":18935792.0,\"xanchor\":\"right\",\"y\":1},{\"align\":\"left\",\"font\":{\"size\":10},\"showarrow\":false,\"text\":\"18,935,792.00\",\"textangle\":0,\"x\":18935792.0,\"xanchor\":\"right\",\"y\":2},{\"align\":\"left\",\"font\":{\"size\":10},\"showarrow\":false,\"text\":\"18,935,792.00\",\"textangle\":0,\"x\":18935792.0,\"xanchor\":\"right\",\"y\":3},{\"align\":\"left\",\"font\":{\"size\":10},\"showarrow\":false,\"text\":\"18,935,792.00\",\"textangle\":0,\"x\":18935792.0,\"xanchor\":\"right\",\"y\":4},{\"align\":\"left\",\"font\":{\"size\":10},\"showarrow\":false,\"text\":\"18,935,792.00\",\"textangle\":0,\"x\":18935792.0,\"xanchor\":\"right\",\"y\":5},{\"align\":\"left\",\"font\":{\"size\":10},\"showarrow\":false,\"text\":\"18,935,792.00\",\"textangle\":0,\"x\":18935792.0,\"xanchor\":\"right\",\"y\":6},{\"align\":\"left\",\"font\":{\"size\":10},\"showarrow\":false,\"text\":\"18,935,792.00\",\"textangle\":0,\"x\":18935792.0,\"xanchor\":\"right\",\"y\":7},{\"align\":\"left\",\"font\":{\"size\":10},\"showarrow\":false,\"text\":\"18,935,792.00\",\"textangle\":0,\"x\":18935792.0,\"xanchor\":\"right\",\"y\":8},{\"align\":\"left\",\"font\":{\"size\":10},\"showarrow\":false,\"text\":\"18,935,792.00\",\"textangle\":0,\"x\":18935792.0,\"xanchor\":\"right\",\"y\":9},{\"align\":\"left\",\"font\":{\"size\":10},\"showarrow\":false,\"text\":\"18,935,792.00\",\"textangle\":0,\"x\":18935792.0,\"xanchor\":\"right\",\"y\":10},{\"align\":\"left\",\"font\":{\"size\":10},\"showarrow\":false,\"text\":\"18,935,792.00\",\"textangle\":0,\"x\":18935792.0,\"xanchor\":\"right\",\"y\":11},{\"align\":\"left\",\"font\":{\"size\":10},\"showarrow\":false,\"text\":\"18,935,792.00\",\"textangle\":0,\"x\":18935792.0,\"xanchor\":\"right\",\"y\":12},{\"align\":\"left\",\"font\":{\"size\":10},\"showarrow\":false,\"text\":\"18,935,792.00\",\"textangle\":0,\"x\":18935792.0,\"xanchor\":\"right\",\"y\":13},{\"align\":\"left\",\"font\":{\"size\":10},\"showarrow\":false,\"text\":\"18,935,792.00\",\"textangle\":0,\"x\":18935792.0,\"xanchor\":\"right\",\"y\":14}],\"height\":600,\"width\":800,\"bargap\":0.1},                        {\"responsive\": true}                    ).then(function(){\n",
       "                            \n",
       "var gd = document.getElementById('c377518e-d74a-4bea-bb29-6efd65582535');\n",
       "var x = new MutationObserver(function (mutations, observer) {{\n",
       "        var display = window.getComputedStyle(gd).display;\n",
       "        if (!display || display === 'none') {{\n",
       "            console.log([gd, 'removed!']);\n",
       "            Plotly.purge(gd);\n",
       "            observer.disconnect();\n",
       "        }}\n",
       "}});\n",
       "\n",
       "// Listen for the removal of the full notebook cells\n",
       "var notebookContainer = gd.closest('#notebook-container');\n",
       "if (notebookContainer) {{\n",
       "    x.observe(notebookContainer, {childList: true});\n",
       "}}\n",
       "\n",
       "// Listen for the clearing of the current output cell\n",
       "var outputEl = gd.closest('.output');\n",
       "if (outputEl) {{\n",
       "    x.observe(outputEl, {childList: true});\n",
       "}}\n",
       "\n",
       "                        })                };                });            </script>        </div>"
      ]
     },
     "metadata": {},
     "output_type": "display_data"
    }
   ],
   "source": [
    "# Criando o gráfico de barras horizontais\n",
    "fig = go.Figure(go.Bar(\n",
    "    x=df_emendas_deputados.values,\n",
    "    y=df_emendas_deputados.index.map(lambda x: f\"{x[0]} ({x[1]}/{x[2]})\"),\n",
    "    orientation='h',\n",
    "    marker_color='skyblue'\n",
    "))\n",
    "\n",
    "# Adicionando título e rótulos aos eixos\n",
    "fig.update_layout(\n",
    "    title='Top 10 Deputados por Valor de Emendas',\n",
    "    xaxis_title='Valor Total das Emendas',\n",
    "    yaxis_title='Deputados',\n",
    "    font_size=12\n",
    ")\n",
    "\n",
    "# Adicionando os valores nas barras\n",
    "for i, value in enumerate(df_emendas_deputados.values):\n",
    "    fig.add_annotation(\n",
    "        x=value,\n",
    "        y=i,\n",
    "        text=f'{value:,.2f}',\n",
    "        textangle=0,\n",
    "        font_size=10,\n",
    "        showarrow=False,\n",
    "        align='left',\n",
    "        xanchor='right'\n",
    "    )\n",
    "\n",
    "# Ajustando o layout\n",
    "fig.update_layout(\n",
    "    height=600,\n",
    "    width=800,\n",
    "    bargap=0.1\n",
    ")\n",
    "\n",
    "# Exibindo o gráfico\n",
    "fig.show()\n"
   ]
  },
  {
   "cell_type": "markdown",
   "id": "ba1d6d07-2ced-494c-8472-ae6ad692ccba",
   "metadata": {},
   "source": [
    "##### Senado"
   ]
  },
  {
   "cell_type": "code",
   "execution_count": 16,
   "id": "670d5ac6-a81a-48f7-8258-f657bc54b0ca",
   "metadata": {
    "colab": {
     "base_uri": "https://localhost:8080/",
     "height": 429
    },
    "id": "KuO38U6Aewyl",
    "outputId": "075c698e-6cc2-4ec1-fb4c-d54e33c9f9b0"
   },
   "outputs": [
    {
     "data": {
      "text/plain": [
       "nome             partido  uf\n",
       "Marcos Rogério   PL       RO    34817425.0\n",
       "Jussara Lima     PSD      PI    34817425.0\n",
       "Jayme Campos     UNIÃO    MT    34817425.0\n",
       "Davi Alcolumbre  UNIÃO    AP    34815000.0\n",
       "Otto Alencar     PSD      BA    34634850.0\n",
       "Ciro Nogueira    PP       PI    34634850.0\n",
       "Giordano         MDB      SP    34500000.0\n",
       "Eliziane Gama    PSD      MA    34317425.0\n",
       "Fernando Farias  MDB      AL    34317425.0\n",
       "Angelo Coronel   PSD      BA    34134850.0\n",
       "Name: valor_emenda, dtype: float64"
      ]
     },
     "execution_count": 16,
     "metadata": {},
     "output_type": "execute_result"
    }
   ],
   "source": [
    "df_emendas_senadores = (\n",
    "    df_emendas[df_emendas['cargo']=='senador']\n",
    "    .groupby(colunas_agregacao)\n",
    "    .sum()\n",
    "    ['valor_emenda']\n",
    "    .sort_values(ascending=False)\n",
    "    .head(10)\n",
    ")\n",
    "df_emendas_senadores"
   ]
  },
  {
   "cell_type": "code",
   "execution_count": 17,
   "id": "901ad9fa-27da-4750-8e9b-c5c2372da6ed",
   "metadata": {
    "colab": {
     "base_uri": "https://localhost:8080/",
     "height": 429
    },
    "id": "a6stdnTjeyqZ",
    "outputId": "5579a341-b234-47c0-a98f-b2432012ebbe"
   },
   "outputs": [
    {
     "data": {
      "application/vnd.plotly.v1+json": {
       "config": {
        "plotlyServerURL": "https://plot.ly"
       },
       "data": [
        {
         "marker": {
          "color": "skyblue"
         },
         "orientation": "h",
         "type": "bar",
         "x": [
          34817425,
          34817425,
          34817425,
          34815000,
          34634850,
          34634850,
          34500000,
          34317425,
          34317425,
          34134850
         ],
         "y": [
          "Marcos Rogério (PL)",
          "Jussara Lima (PSD)",
          "Jayme Campos (UNIÃO)",
          "Davi Alcolumbre (UNIÃO)",
          "Otto Alencar (PSD)",
          "Ciro Nogueira (PP)",
          "Giordano (MDB)",
          "Eliziane Gama (PSD)",
          "Fernando Farias (MDB)",
          "Angelo Coronel (PSD)"
         ]
        }
       ],
       "layout": {
        "annotations": [
         {
          "align": "left",
          "font": {
           "size": 10
          },
          "showarrow": false,
          "text": "34,817,425.00",
          "textangle": 0,
          "x": 34817425,
          "xanchor": "right",
          "y": 0
         },
         {
          "align": "left",
          "font": {
           "size": 10
          },
          "showarrow": false,
          "text": "34,817,425.00",
          "textangle": 0,
          "x": 34817425,
          "xanchor": "right",
          "y": 1
         },
         {
          "align": "left",
          "font": {
           "size": 10
          },
          "showarrow": false,
          "text": "34,817,425.00",
          "textangle": 0,
          "x": 34817425,
          "xanchor": "right",
          "y": 2
         },
         {
          "align": "left",
          "font": {
           "size": 10
          },
          "showarrow": false,
          "text": "34,815,000.00",
          "textangle": 0,
          "x": 34815000,
          "xanchor": "right",
          "y": 3
         },
         {
          "align": "left",
          "font": {
           "size": 10
          },
          "showarrow": false,
          "text": "34,634,850.00",
          "textangle": 0,
          "x": 34634850,
          "xanchor": "right",
          "y": 4
         },
         {
          "align": "left",
          "font": {
           "size": 10
          },
          "showarrow": false,
          "text": "34,634,850.00",
          "textangle": 0,
          "x": 34634850,
          "xanchor": "right",
          "y": 5
         },
         {
          "align": "left",
          "font": {
           "size": 10
          },
          "showarrow": false,
          "text": "34,500,000.00",
          "textangle": 0,
          "x": 34500000,
          "xanchor": "right",
          "y": 6
         },
         {
          "align": "left",
          "font": {
           "size": 10
          },
          "showarrow": false,
          "text": "34,317,425.00",
          "textangle": 0,
          "x": 34317425,
          "xanchor": "right",
          "y": 7
         },
         {
          "align": "left",
          "font": {
           "size": 10
          },
          "showarrow": false,
          "text": "34,317,425.00",
          "textangle": 0,
          "x": 34317425,
          "xanchor": "right",
          "y": 8
         },
         {
          "align": "left",
          "font": {
           "size": 10
          },
          "showarrow": false,
          "text": "34,134,850.00",
          "textangle": 0,
          "x": 34134850,
          "xanchor": "right",
          "y": 9
         }
        ],
        "bargap": 0.1,
        "font": {
         "size": 12
        },
        "height": 600,
        "template": {
         "data": {
          "bar": [
           {
            "error_x": {
             "color": "#2a3f5f"
            },
            "error_y": {
             "color": "#2a3f5f"
            },
            "marker": {
             "line": {
              "color": "#E5ECF6",
              "width": 0.5
             },
             "pattern": {
              "fillmode": "overlay",
              "size": 10,
              "solidity": 0.2
             }
            },
            "type": "bar"
           }
          ],
          "barpolar": [
           {
            "marker": {
             "line": {
              "color": "#E5ECF6",
              "width": 0.5
             },
             "pattern": {
              "fillmode": "overlay",
              "size": 10,
              "solidity": 0.2
             }
            },
            "type": "barpolar"
           }
          ],
          "carpet": [
           {
            "aaxis": {
             "endlinecolor": "#2a3f5f",
             "gridcolor": "white",
             "linecolor": "white",
             "minorgridcolor": "white",
             "startlinecolor": "#2a3f5f"
            },
            "baxis": {
             "endlinecolor": "#2a3f5f",
             "gridcolor": "white",
             "linecolor": "white",
             "minorgridcolor": "white",
             "startlinecolor": "#2a3f5f"
            },
            "type": "carpet"
           }
          ],
          "choropleth": [
           {
            "colorbar": {
             "outlinewidth": 0,
             "ticks": ""
            },
            "type": "choropleth"
           }
          ],
          "contour": [
           {
            "colorbar": {
             "outlinewidth": 0,
             "ticks": ""
            },
            "colorscale": [
             [
              0,
              "#0d0887"
             ],
             [
              0.1111111111111111,
              "#46039f"
             ],
             [
              0.2222222222222222,
              "#7201a8"
             ],
             [
              0.3333333333333333,
              "#9c179e"
             ],
             [
              0.4444444444444444,
              "#bd3786"
             ],
             [
              0.5555555555555556,
              "#d8576b"
             ],
             [
              0.6666666666666666,
              "#ed7953"
             ],
             [
              0.7777777777777778,
              "#fb9f3a"
             ],
             [
              0.8888888888888888,
              "#fdca26"
             ],
             [
              1,
              "#f0f921"
             ]
            ],
            "type": "contour"
           }
          ],
          "contourcarpet": [
           {
            "colorbar": {
             "outlinewidth": 0,
             "ticks": ""
            },
            "type": "contourcarpet"
           }
          ],
          "heatmap": [
           {
            "colorbar": {
             "outlinewidth": 0,
             "ticks": ""
            },
            "colorscale": [
             [
              0,
              "#0d0887"
             ],
             [
              0.1111111111111111,
              "#46039f"
             ],
             [
              0.2222222222222222,
              "#7201a8"
             ],
             [
              0.3333333333333333,
              "#9c179e"
             ],
             [
              0.4444444444444444,
              "#bd3786"
             ],
             [
              0.5555555555555556,
              "#d8576b"
             ],
             [
              0.6666666666666666,
              "#ed7953"
             ],
             [
              0.7777777777777778,
              "#fb9f3a"
             ],
             [
              0.8888888888888888,
              "#fdca26"
             ],
             [
              1,
              "#f0f921"
             ]
            ],
            "type": "heatmap"
           }
          ],
          "heatmapgl": [
           {
            "colorbar": {
             "outlinewidth": 0,
             "ticks": ""
            },
            "colorscale": [
             [
              0,
              "#0d0887"
             ],
             [
              0.1111111111111111,
              "#46039f"
             ],
             [
              0.2222222222222222,
              "#7201a8"
             ],
             [
              0.3333333333333333,
              "#9c179e"
             ],
             [
              0.4444444444444444,
              "#bd3786"
             ],
             [
              0.5555555555555556,
              "#d8576b"
             ],
             [
              0.6666666666666666,
              "#ed7953"
             ],
             [
              0.7777777777777778,
              "#fb9f3a"
             ],
             [
              0.8888888888888888,
              "#fdca26"
             ],
             [
              1,
              "#f0f921"
             ]
            ],
            "type": "heatmapgl"
           }
          ],
          "histogram": [
           {
            "marker": {
             "pattern": {
              "fillmode": "overlay",
              "size": 10,
              "solidity": 0.2
             }
            },
            "type": "histogram"
           }
          ],
          "histogram2d": [
           {
            "colorbar": {
             "outlinewidth": 0,
             "ticks": ""
            },
            "colorscale": [
             [
              0,
              "#0d0887"
             ],
             [
              0.1111111111111111,
              "#46039f"
             ],
             [
              0.2222222222222222,
              "#7201a8"
             ],
             [
              0.3333333333333333,
              "#9c179e"
             ],
             [
              0.4444444444444444,
              "#bd3786"
             ],
             [
              0.5555555555555556,
              "#d8576b"
             ],
             [
              0.6666666666666666,
              "#ed7953"
             ],
             [
              0.7777777777777778,
              "#fb9f3a"
             ],
             [
              0.8888888888888888,
              "#fdca26"
             ],
             [
              1,
              "#f0f921"
             ]
            ],
            "type": "histogram2d"
           }
          ],
          "histogram2dcontour": [
           {
            "colorbar": {
             "outlinewidth": 0,
             "ticks": ""
            },
            "colorscale": [
             [
              0,
              "#0d0887"
             ],
             [
              0.1111111111111111,
              "#46039f"
             ],
             [
              0.2222222222222222,
              "#7201a8"
             ],
             [
              0.3333333333333333,
              "#9c179e"
             ],
             [
              0.4444444444444444,
              "#bd3786"
             ],
             [
              0.5555555555555556,
              "#d8576b"
             ],
             [
              0.6666666666666666,
              "#ed7953"
             ],
             [
              0.7777777777777778,
              "#fb9f3a"
             ],
             [
              0.8888888888888888,
              "#fdca26"
             ],
             [
              1,
              "#f0f921"
             ]
            ],
            "type": "histogram2dcontour"
           }
          ],
          "mesh3d": [
           {
            "colorbar": {
             "outlinewidth": 0,
             "ticks": ""
            },
            "type": "mesh3d"
           }
          ],
          "parcoords": [
           {
            "line": {
             "colorbar": {
              "outlinewidth": 0,
              "ticks": ""
             }
            },
            "type": "parcoords"
           }
          ],
          "pie": [
           {
            "automargin": true,
            "type": "pie"
           }
          ],
          "scatter": [
           {
            "fillpattern": {
             "fillmode": "overlay",
             "size": 10,
             "solidity": 0.2
            },
            "type": "scatter"
           }
          ],
          "scatter3d": [
           {
            "line": {
             "colorbar": {
              "outlinewidth": 0,
              "ticks": ""
             }
            },
            "marker": {
             "colorbar": {
              "outlinewidth": 0,
              "ticks": ""
             }
            },
            "type": "scatter3d"
           }
          ],
          "scattercarpet": [
           {
            "marker": {
             "colorbar": {
              "outlinewidth": 0,
              "ticks": ""
             }
            },
            "type": "scattercarpet"
           }
          ],
          "scattergeo": [
           {
            "marker": {
             "colorbar": {
              "outlinewidth": 0,
              "ticks": ""
             }
            },
            "type": "scattergeo"
           }
          ],
          "scattergl": [
           {
            "marker": {
             "colorbar": {
              "outlinewidth": 0,
              "ticks": ""
             }
            },
            "type": "scattergl"
           }
          ],
          "scattermapbox": [
           {
            "marker": {
             "colorbar": {
              "outlinewidth": 0,
              "ticks": ""
             }
            },
            "type": "scattermapbox"
           }
          ],
          "scatterpolar": [
           {
            "marker": {
             "colorbar": {
              "outlinewidth": 0,
              "ticks": ""
             }
            },
            "type": "scatterpolar"
           }
          ],
          "scatterpolargl": [
           {
            "marker": {
             "colorbar": {
              "outlinewidth": 0,
              "ticks": ""
             }
            },
            "type": "scatterpolargl"
           }
          ],
          "scatterternary": [
           {
            "marker": {
             "colorbar": {
              "outlinewidth": 0,
              "ticks": ""
             }
            },
            "type": "scatterternary"
           }
          ],
          "surface": [
           {
            "colorbar": {
             "outlinewidth": 0,
             "ticks": ""
            },
            "colorscale": [
             [
              0,
              "#0d0887"
             ],
             [
              0.1111111111111111,
              "#46039f"
             ],
             [
              0.2222222222222222,
              "#7201a8"
             ],
             [
              0.3333333333333333,
              "#9c179e"
             ],
             [
              0.4444444444444444,
              "#bd3786"
             ],
             [
              0.5555555555555556,
              "#d8576b"
             ],
             [
              0.6666666666666666,
              "#ed7953"
             ],
             [
              0.7777777777777778,
              "#fb9f3a"
             ],
             [
              0.8888888888888888,
              "#fdca26"
             ],
             [
              1,
              "#f0f921"
             ]
            ],
            "type": "surface"
           }
          ],
          "table": [
           {
            "cells": {
             "fill": {
              "color": "#EBF0F8"
             },
             "line": {
              "color": "white"
             }
            },
            "header": {
             "fill": {
              "color": "#C8D4E3"
             },
             "line": {
              "color": "white"
             }
            },
            "type": "table"
           }
          ]
         },
         "layout": {
          "annotationdefaults": {
           "arrowcolor": "#2a3f5f",
           "arrowhead": 0,
           "arrowwidth": 1
          },
          "autotypenumbers": "strict",
          "coloraxis": {
           "colorbar": {
            "outlinewidth": 0,
            "ticks": ""
           }
          },
          "colorscale": {
           "diverging": [
            [
             0,
             "#8e0152"
            ],
            [
             0.1,
             "#c51b7d"
            ],
            [
             0.2,
             "#de77ae"
            ],
            [
             0.3,
             "#f1b6da"
            ],
            [
             0.4,
             "#fde0ef"
            ],
            [
             0.5,
             "#f7f7f7"
            ],
            [
             0.6,
             "#e6f5d0"
            ],
            [
             0.7,
             "#b8e186"
            ],
            [
             0.8,
             "#7fbc41"
            ],
            [
             0.9,
             "#4d9221"
            ],
            [
             1,
             "#276419"
            ]
           ],
           "sequential": [
            [
             0,
             "#0d0887"
            ],
            [
             0.1111111111111111,
             "#46039f"
            ],
            [
             0.2222222222222222,
             "#7201a8"
            ],
            [
             0.3333333333333333,
             "#9c179e"
            ],
            [
             0.4444444444444444,
             "#bd3786"
            ],
            [
             0.5555555555555556,
             "#d8576b"
            ],
            [
             0.6666666666666666,
             "#ed7953"
            ],
            [
             0.7777777777777778,
             "#fb9f3a"
            ],
            [
             0.8888888888888888,
             "#fdca26"
            ],
            [
             1,
             "#f0f921"
            ]
           ],
           "sequentialminus": [
            [
             0,
             "#0d0887"
            ],
            [
             0.1111111111111111,
             "#46039f"
            ],
            [
             0.2222222222222222,
             "#7201a8"
            ],
            [
             0.3333333333333333,
             "#9c179e"
            ],
            [
             0.4444444444444444,
             "#bd3786"
            ],
            [
             0.5555555555555556,
             "#d8576b"
            ],
            [
             0.6666666666666666,
             "#ed7953"
            ],
            [
             0.7777777777777778,
             "#fb9f3a"
            ],
            [
             0.8888888888888888,
             "#fdca26"
            ],
            [
             1,
             "#f0f921"
            ]
           ]
          },
          "colorway": [
           "#636efa",
           "#EF553B",
           "#00cc96",
           "#ab63fa",
           "#FFA15A",
           "#19d3f3",
           "#FF6692",
           "#B6E880",
           "#FF97FF",
           "#FECB52"
          ],
          "font": {
           "color": "#2a3f5f"
          },
          "geo": {
           "bgcolor": "white",
           "lakecolor": "white",
           "landcolor": "#E5ECF6",
           "showlakes": true,
           "showland": true,
           "subunitcolor": "white"
          },
          "hoverlabel": {
           "align": "left"
          },
          "hovermode": "closest",
          "mapbox": {
           "style": "light"
          },
          "paper_bgcolor": "white",
          "plot_bgcolor": "#E5ECF6",
          "polar": {
           "angularaxis": {
            "gridcolor": "white",
            "linecolor": "white",
            "ticks": ""
           },
           "bgcolor": "#E5ECF6",
           "radialaxis": {
            "gridcolor": "white",
            "linecolor": "white",
            "ticks": ""
           }
          },
          "scene": {
           "xaxis": {
            "backgroundcolor": "#E5ECF6",
            "gridcolor": "white",
            "gridwidth": 2,
            "linecolor": "white",
            "showbackground": true,
            "ticks": "",
            "zerolinecolor": "white"
           },
           "yaxis": {
            "backgroundcolor": "#E5ECF6",
            "gridcolor": "white",
            "gridwidth": 2,
            "linecolor": "white",
            "showbackground": true,
            "ticks": "",
            "zerolinecolor": "white"
           },
           "zaxis": {
            "backgroundcolor": "#E5ECF6",
            "gridcolor": "white",
            "gridwidth": 2,
            "linecolor": "white",
            "showbackground": true,
            "ticks": "",
            "zerolinecolor": "white"
           }
          },
          "shapedefaults": {
           "line": {
            "color": "#2a3f5f"
           }
          },
          "ternary": {
           "aaxis": {
            "gridcolor": "white",
            "linecolor": "white",
            "ticks": ""
           },
           "baxis": {
            "gridcolor": "white",
            "linecolor": "white",
            "ticks": ""
           },
           "bgcolor": "#E5ECF6",
           "caxis": {
            "gridcolor": "white",
            "linecolor": "white",
            "ticks": ""
           }
          },
          "title": {
           "x": 0.05
          },
          "xaxis": {
           "automargin": true,
           "gridcolor": "white",
           "linecolor": "white",
           "ticks": "",
           "title": {
            "standoff": 15
           },
           "zerolinecolor": "white",
           "zerolinewidth": 2
          },
          "yaxis": {
           "automargin": true,
           "gridcolor": "white",
           "linecolor": "white",
           "ticks": "",
           "title": {
            "standoff": 15
           },
           "zerolinecolor": "white",
           "zerolinewidth": 2
          }
         }
        },
        "title": {
         "text": "Top 10 Senadores por Valor de Emendas"
        },
        "width": 800,
        "xaxis": {
         "title": {
          "text": "Valor Total das Emendas"
         }
        },
        "yaxis": {
         "title": {
          "text": "Senadores"
         }
        }
       }
      },
      "image/png": "[encoded data removed]",
      "text/html": [
       "<div>                            <div id=\"9ea64aa4-9c40-4953-8135-7529b9eccc19\" class=\"plotly-graph-div\" style=\"height:600px; width:800px;\"></div>            <script type=\"text/javascript\">                require([\"plotly\"], function(Plotly) {                    window.PLOTLYENV=window.PLOTLYENV || {};                                    if (document.getElementById(\"9ea64aa4-9c40-4953-8135-7529b9eccc19\")) {                    Plotly.newPlot(                        \"9ea64aa4-9c40-4953-8135-7529b9eccc19\",                        [{\"marker\":{\"color\":\"skyblue\"},\"orientation\":\"h\",\"x\":[34817425.0,34817425.0,34817425.0,34815000.0,34634850.0,34634850.0,34500000.0,34317425.0,34317425.0,34134850.0],\"y\":[\"Marcos Rog\\u00e9rio (PL)\",\"Jussara Lima (PSD)\",\"Jayme Campos (UNI\\u00c3O)\",\"Davi Alcolumbre (UNI\\u00c3O)\",\"Otto Alencar (PSD)\",\"Ciro Nogueira (PP)\",\"Giordano (MDB)\",\"Eliziane Gama (PSD)\",\"Fernando Farias (MDB)\",\"Angelo Coronel (PSD)\"],\"type\":\"bar\"}],                        {\"template\":{\"data\":{\"histogram2dcontour\":[{\"type\":\"histogram2dcontour\",\"colorbar\":{\"outlinewidth\":0,\"ticks\":\"\"},\"colorscale\":[[0.0,\"#0d0887\"],[0.1111111111111111,\"#46039f\"],[0.2222222222222222,\"#7201a8\"],[0.3333333333333333,\"#9c179e\"],[0.4444444444444444,\"#bd3786\"],[0.5555555555555556,\"#d8576b\"],[0.6666666666666666,\"#ed7953\"],[0.7777777777777778,\"#fb9f3a\"],[0.8888888888888888,\"#fdca26\"],[1.0,\"#f0f921\"]]}],\"choropleth\":[{\"type\":\"choropleth\",\"colorbar\":{\"outlinewidth\":0,\"ticks\":\"\"}}],\"histogram2d\":[{\"type\":\"histogram2d\",\"colorbar\":{\"outlinewidth\":0,\"ticks\":\"\"},\"colorscale\":[[0.0,\"#0d0887\"],[0.1111111111111111,\"#46039f\"],[0.2222222222222222,\"#7201a8\"],[0.3333333333333333,\"#9c179e\"],[0.4444444444444444,\"#bd3786\"],[0.5555555555555556,\"#d8576b\"],[0.6666666666666666,\"#ed7953\"],[0.7777777777777778,\"#fb9f3a\"],[0.8888888888888888,\"#fdca26\"],[1.0,\"#f0f921\"]]}],\"heatmap\":[{\"type\":\"heatmap\",\"colorbar\":{\"outlinewidth\":0,\"ticks\":\"\"},\"colorscale\":[[0.0,\"#0d0887\"],[0.1111111111111111,\"#46039f\"],[0.2222222222222222,\"#7201a8\"],[0.3333333333333333,\"#9c179e\"],[0.4444444444444444,\"#bd3786\"],[0.5555555555555556,\"#d8576b\"],[0.6666666666666666,\"#ed7953\"],[0.7777777777777778,\"#fb9f3a\"],[0.8888888888888888,\"#fdca26\"],[1.0,\"#f0f921\"]]}],\"heatmapgl\":[{\"type\":\"heatmapgl\",\"colorbar\":{\"outlinewidth\":0,\"ticks\":\"\"},\"colorscale\":[[0.0,\"#0d0887\"],[0.1111111111111111,\"#46039f\"],[0.2222222222222222,\"#7201a8\"],[0.3333333333333333,\"#9c179e\"],[0.4444444444444444,\"#bd3786\"],[0.5555555555555556,\"#d8576b\"],[0.6666666666666666,\"#ed7953\"],[0.7777777777777778,\"#fb9f3a\"],[0.8888888888888888,\"#fdca26\"],[1.0,\"#f0f921\"]]}],\"contourcarpet\":[{\"type\":\"contourcarpet\",\"colorbar\":{\"outlinewidth\":0,\"ticks\":\"\"}}],\"contour\":[{\"type\":\"contour\",\"colorbar\":{\"outlinewidth\":0,\"ticks\":\"\"},\"colorscale\":[[0.0,\"#0d0887\"],[0.1111111111111111,\"#46039f\"],[0.2222222222222222,\"#7201a8\"],[0.3333333333333333,\"#9c179e\"],[0.4444444444444444,\"#bd3786\"],[0.5555555555555556,\"#d8576b\"],[0.6666666666666666,\"#ed7953\"],[0.7777777777777778,\"#fb9f3a\"],[0.8888888888888888,\"#fdca26\"],[1.0,\"#f0f921\"]]}],\"surface\":[{\"type\":\"surface\",\"colorbar\":{\"outlinewidth\":0,\"ticks\":\"\"},\"colorscale\":[[0.0,\"#0d0887\"],[0.1111111111111111,\"#46039f\"],[0.2222222222222222,\"#7201a8\"],[0.3333333333333333,\"#9c179e\"],[0.4444444444444444,\"#bd3786\"],[0.5555555555555556,\"#d8576b\"],[0.6666666666666666,\"#ed7953\"],[0.7777777777777778,\"#fb9f3a\"],[0.8888888888888888,\"#fdca26\"],[1.0,\"#f0f921\"]]}],\"mesh3d\":[{\"type\":\"mesh3d\",\"colorbar\":{\"outlinewidth\":0,\"ticks\":\"\"}}],\"scatter\":[{\"fillpattern\":{\"fillmode\":\"overlay\",\"size\":10,\"solidity\":0.2},\"type\":\"scatter\"}],\"parcoords\":[{\"type\":\"parcoords\",\"line\":{\"colorbar\":{\"outlinewidth\":0,\"ticks\":\"\"}}}],\"scatterpolargl\":[{\"type\":\"scatterpolargl\",\"marker\":{\"colorbar\":{\"outlinewidth\":0,\"ticks\":\"\"}}}],\"bar\":[{\"error_x\":{\"color\":\"#2a3f5f\"},\"error_y\":{\"color\":\"#2a3f5f\"},\"marker\":{\"line\":{\"color\":\"#E5ECF6\",\"width\":0.5},\"pattern\":{\"fillmode\":\"overlay\",\"size\":10,\"solidity\":0.2}},\"type\":\"bar\"}],\"scattergeo\":[{\"type\":\"scattergeo\",\"marker\":{\"colorbar\":{\"outlinewidth\":0,\"ticks\":\"\"}}}],\"scatterpolar\":[{\"type\":\"scatterpolar\",\"marker\":{\"colorbar\":{\"outlinewidth\":0,\"ticks\":\"\"}}}],\"histogram\":[{\"marker\":{\"pattern\":{\"fillmode\":\"overlay\",\"size\":10,\"solidity\":0.2}},\"type\":\"histogram\"}],\"scattergl\":[{\"type\":\"scattergl\",\"marker\":{\"colorbar\":{\"outlinewidth\":0,\"ticks\":\"\"}}}],\"scatter3d\":[{\"type\":\"scatter3d\",\"line\":{\"colorbar\":{\"outlinewidth\":0,\"ticks\":\"\"}},\"marker\":{\"colorbar\":{\"outlinewidth\":0,\"ticks\":\"\"}}}],\"scattermapbox\":[{\"type\":\"scattermapbox\",\"marker\":{\"colorbar\":{\"outlinewidth\":0,\"ticks\":\"\"}}}],\"scatterternary\":[{\"type\":\"scatterternary\",\"marker\":{\"colorbar\":{\"outlinewidth\":0,\"ticks\":\"\"}}}],\"scattercarpet\":[{\"type\":\"scattercarpet\",\"marker\":{\"colorbar\":{\"outlinewidth\":0,\"ticks\":\"\"}}}],\"carpet\":[{\"aaxis\":{\"endlinecolor\":\"#2a3f5f\",\"gridcolor\":\"white\",\"linecolor\":\"white\",\"minorgridcolor\":\"white\",\"startlinecolor\":\"#2a3f5f\"},\"baxis\":{\"endlinecolor\":\"#2a3f5f\",\"gridcolor\":\"white\",\"linecolor\":\"white\",\"minorgridcolor\":\"white\",\"startlinecolor\":\"#2a3f5f\"},\"type\":\"carpet\"}],\"table\":[{\"cells\":{\"fill\":{\"color\":\"#EBF0F8\"},\"line\":{\"color\":\"white\"}},\"header\":{\"fill\":{\"color\":\"#C8D4E3\"},\"line\":{\"color\":\"white\"}},\"type\":\"table\"}],\"barpolar\":[{\"marker\":{\"line\":{\"color\":\"#E5ECF6\",\"width\":0.5},\"pattern\":{\"fillmode\":\"overlay\",\"size\":10,\"solidity\":0.2}},\"type\":\"barpolar\"}],\"pie\":[{\"automargin\":true,\"type\":\"pie\"}]},\"layout\":{\"autotypenumbers\":\"strict\",\"colorway\":[\"#636efa\",\"#EF553B\",\"#00cc96\",\"#ab63fa\",\"#FFA15A\",\"#19d3f3\",\"#FF6692\",\"#B6E880\",\"#FF97FF\",\"#FECB52\"],\"font\":{\"color\":\"#2a3f5f\"},\"hovermode\":\"closest\",\"hoverlabel\":{\"align\":\"left\"},\"paper_bgcolor\":\"white\",\"plot_bgcolor\":\"#E5ECF6\",\"polar\":{\"bgcolor\":\"#E5ECF6\",\"angularaxis\":{\"gridcolor\":\"white\",\"linecolor\":\"white\",\"ticks\":\"\"},\"radialaxis\":{\"gridcolor\":\"white\",\"linecolor\":\"white\",\"ticks\":\"\"}},\"ternary\":{\"bgcolor\":\"#E5ECF6\",\"aaxis\":{\"gridcolor\":\"white\",\"linecolor\":\"white\",\"ticks\":\"\"},\"baxis\":{\"gridcolor\":\"white\",\"linecolor\":\"white\",\"ticks\":\"\"},\"caxis\":{\"gridcolor\":\"white\",\"linecolor\":\"white\",\"ticks\":\"\"}},\"coloraxis\":{\"colorbar\":{\"outlinewidth\":0,\"ticks\":\"\"}},\"colorscale\":{\"sequential\":[[0.0,\"#0d0887\"],[0.1111111111111111,\"#46039f\"],[0.2222222222222222,\"#7201a8\"],[0.3333333333333333,\"#9c179e\"],[0.4444444444444444,\"#bd3786\"],[0.5555555555555556,\"#d8576b\"],[0.6666666666666666,\"#ed7953\"],[0.7777777777777778,\"#fb9f3a\"],[0.8888888888888888,\"#fdca26\"],[1.0,\"#f0f921\"]],\"sequentialminus\":[[0.0,\"#0d0887\"],[0.1111111111111111,\"#46039f\"],[0.2222222222222222,\"#7201a8\"],[0.3333333333333333,\"#9c179e\"],[0.4444444444444444,\"#bd3786\"],[0.5555555555555556,\"#d8576b\"],[0.6666666666666666,\"#ed7953\"],[0.7777777777777778,\"#fb9f3a\"],[0.8888888888888888,\"#fdca26\"],[1.0,\"#f0f921\"]],\"diverging\":[[0,\"#8e0152\"],[0.1,\"#c51b7d\"],[0.2,\"#de77ae\"],[0.3,\"#f1b6da\"],[0.4,\"#fde0ef\"],[0.5,\"#f7f7f7\"],[0.6,\"#e6f5d0\"],[0.7,\"#b8e186\"],[0.8,\"#7fbc41\"],[0.9,\"#4d9221\"],[1,\"#276419\"]]},\"xaxis\":{\"gridcolor\":\"white\",\"linecolor\":\"white\",\"ticks\":\"\",\"title\":{\"standoff\":15},\"zerolinecolor\":\"white\",\"automargin\":true,\"zerolinewidth\":2},\"yaxis\":{\"gridcolor\":\"white\",\"linecolor\":\"white\",\"ticks\":\"\",\"title\":{\"standoff\":15},\"zerolinecolor\":\"white\",\"automargin\":true,\"zerolinewidth\":2},\"scene\":{\"xaxis\":{\"backgroundcolor\":\"#E5ECF6\",\"gridcolor\":\"white\",\"linecolor\":\"white\",\"showbackground\":true,\"ticks\":\"\",\"zerolinecolor\":\"white\",\"gridwidth\":2},\"yaxis\":{\"backgroundcolor\":\"#E5ECF6\",\"gridcolor\":\"white\",\"linecolor\":\"white\",\"showbackground\":true,\"ticks\":\"\",\"zerolinecolor\":\"white\",\"gridwidth\":2},\"zaxis\":{\"backgroundcolor\":\"#E5ECF6\",\"gridcolor\":\"white\",\"linecolor\":\"white\",\"showbackground\":true,\"ticks\":\"\",\"zerolinecolor\":\"white\",\"gridwidth\":2}},\"shapedefaults\":{\"line\":{\"color\":\"#2a3f5f\"}},\"annotationdefaults\":{\"arrowcolor\":\"#2a3f5f\",\"arrowhead\":0,\"arrowwidth\":1},\"geo\":{\"bgcolor\":\"white\",\"landcolor\":\"#E5ECF6\",\"subunitcolor\":\"white\",\"showland\":true,\"showlakes\":true,\"lakecolor\":\"white\"},\"title\":{\"x\":0.05},\"mapbox\":{\"style\":\"light\"}}},\"font\":{\"size\":12},\"title\":{\"text\":\"Top 10 Senadores por Valor de Emendas\"},\"xaxis\":{\"title\":{\"text\":\"Valor Total das Emendas\"}},\"yaxis\":{\"title\":{\"text\":\"Senadores\"}},\"annotations\":[{\"align\":\"left\",\"font\":{\"size\":10},\"showarrow\":false,\"text\":\"34,817,425.00\",\"textangle\":0,\"x\":34817425.0,\"xanchor\":\"right\",\"y\":0},{\"align\":\"left\",\"font\":{\"size\":10},\"showarrow\":false,\"text\":\"34,817,425.00\",\"textangle\":0,\"x\":34817425.0,\"xanchor\":\"right\",\"y\":1},{\"align\":\"left\",\"font\":{\"size\":10},\"showarrow\":false,\"text\":\"34,817,425.00\",\"textangle\":0,\"x\":34817425.0,\"xanchor\":\"right\",\"y\":2},{\"align\":\"left\",\"font\":{\"size\":10},\"showarrow\":false,\"text\":\"34,815,000.00\",\"textangle\":0,\"x\":34815000.0,\"xanchor\":\"right\",\"y\":3},{\"align\":\"left\",\"font\":{\"size\":10},\"showarrow\":false,\"text\":\"34,634,850.00\",\"textangle\":0,\"x\":34634850.0,\"xanchor\":\"right\",\"y\":4},{\"align\":\"left\",\"font\":{\"size\":10},\"showarrow\":false,\"text\":\"34,634,850.00\",\"textangle\":0,\"x\":34634850.0,\"xanchor\":\"right\",\"y\":5},{\"align\":\"left\",\"font\":{\"size\":10},\"showarrow\":false,\"text\":\"34,500,000.00\",\"textangle\":0,\"x\":34500000.0,\"xanchor\":\"right\",\"y\":6},{\"align\":\"left\",\"font\":{\"size\":10},\"showarrow\":false,\"text\":\"34,317,425.00\",\"textangle\":0,\"x\":34317425.0,\"xanchor\":\"right\",\"y\":7},{\"align\":\"left\",\"font\":{\"size\":10},\"showarrow\":false,\"text\":\"34,317,425.00\",\"textangle\":0,\"x\":34317425.0,\"xanchor\":\"right\",\"y\":8},{\"align\":\"left\",\"font\":{\"size\":10},\"showarrow\":false,\"text\":\"34,134,850.00\",\"textangle\":0,\"x\":34134850.0,\"xanchor\":\"right\",\"y\":9}],\"height\":600,\"width\":800,\"bargap\":0.1},                        {\"responsive\": true}                    ).then(function(){\n",
       "                            \n",
       "var gd = document.getElementById('9ea64aa4-9c40-4953-8135-7529b9eccc19');\n",
       "var x = new MutationObserver(function (mutations, observer) {{\n",
       "        var display = window.getComputedStyle(gd).display;\n",
       "        if (!display || display === 'none') {{\n",
       "            console.log([gd, 'removed!']);\n",
       "            Plotly.purge(gd);\n",
       "            observer.disconnect();\n",
       "        }}\n",
       "}});\n",
       "\n",
       "// Listen for the removal of the full notebook cells\n",
       "var notebookContainer = gd.closest('#notebook-container');\n",
       "if (notebookContainer) {{\n",
       "    x.observe(notebookContainer, {childList: true});\n",
       "}}\n",
       "\n",
       "// Listen for the clearing of the current output cell\n",
       "var outputEl = gd.closest('.output');\n",
       "if (outputEl) {{\n",
       "    x.observe(outputEl, {childList: true});\n",
       "}}\n",
       "\n",
       "                        })                };                });            </script>        </div>"
      ]
     },
     "metadata": {},
     "output_type": "display_data"
    }
   ],
   "source": [
    "# Criando o gráfico de barras horizontais\n",
    "fig = go.Figure(go.Bar(\n",
    "    x=df_emendas_senadores.values,\n",
    "    y=df_emendas_senadores.index.map(lambda x: f\"{x[0]} ({x[1]}/{x[2]})\"),\n",
    "    orientation='h',\n",
    "    marker_color='skyblue'\n",
    "))\n",
    "\n",
    "# Adicionando título e rótulos aos eixos\n",
    "fig.update_layout(\n",
    "    title='Top 10 Senadores por Valor de Emendas',\n",
    "    xaxis_title='Valor Total das Emendas',\n",
    "    yaxis_title='Senadores',\n",
    "    font_size=12\n",
    ")\n",
    "\n",
    "# Exibindo os valores nas barras\n",
    "for i, value in enumerate(df_emendas_senadores.values):\n",
    "    fig.add_annotation(\n",
    "        x=value,\n",
    "        y=i,\n",
    "        text=f'{value:,.2f}',\n",
    "        textangle=0,\n",
    "        font_size=10,\n",
    "        showarrow=False,\n",
    "        align='left',\n",
    "        xanchor='right'\n",
    "    )\n",
    "\n",
    "# Ajustando o layout\n",
    "fig.update_layout(\n",
    "    height=600,\n",
    "    width=800,\n",
    "    bargap=0.1\n",
    ")\n",
    "\n",
    "# Exibindo o gráfico\n",
    "fig.show()"
   ]
  }
 ],
 "metadata": {
  "kernelspec": {
   "display_name": "Python 3 (ipykernel)",
   "language": "python",
   "name": "python3"
  },
  "language_info": {
   "codemirror_mode": {
    "name": "ipython",
    "version": 3
   },
   "file_extension": ".py",
   "mimetype": "text/x-python",
   "name": "python",
   "nbconvert_exporter": "python",
   "pygments_lexer": "ipython3",
   "version": "3.9.5"
  }
 },
 "nbformat": 4,
 "nbformat_minor": 5
}
