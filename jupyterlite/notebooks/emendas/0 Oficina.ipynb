{
 "cells": [
  {
   "cell_type": "markdown",
   "id": "2a99cd4d-69e1-4137-9dae-53b09daa3536",
   "metadata": {
    "id": "DfDiZU_JdBCE"
   },
   "source": [
    "## Oficina de dados abertos do Transferegov\n",
    "\n",
    "Boas vindas à oficina de dados abertos do TransfereGov.\n",
    "\n",
    "O foco da oficina será na parte das emendas parlamentares chamadas \"emendas Pix\" que é operacionaliza pelo Transferegov, no módulo de Transferências Especiais. Os dados estão disponibilizados por meio de API de dados abertos.\n",
    "\n",
    "### Links importantes\n",
    "\n",
    "- **Página da oficina:** https://gestaogovbr.github.io/america-aberta-2024-oficina-transferegov/\n",
    "- **Endereço da API:** https://docs.api.transferegov.gestao.gov.br/transferenciasespeciais/#/plano_acao_especial/get_plano_acao_especial\n",
    "\n",
    "## Passo a passo\n",
    "\n",
    "Para realizar a análise, vamos carregar em uma única tabela todos os dados de Plano de Ação Especial.\n",
    "\n",
    "1. Abrir e executar o caderno \"`1 Baixar os dados.ipynb`\". Os dados serão baixados para a pasta `dados`.\n",
    "2. Abrir e seguir as instruções do caderno \"`2 Cruzamento e análise.ipynb`\".\n"
   ]
  }
 ],
 "metadata": {
  "kernelspec": {
   "display_name": "Python 3 (ipykernel)",
   "language": "python",
   "name": "python3"
  },
  "language_info": {
   "codemirror_mode": {
    "name": "ipython",
    "version": 3
   },
   "file_extension": ".py",
   "mimetype": "text/x-python",
   "name": "python",
   "nbconvert_exporter": "python",
   "pygments_lexer": "ipython3",
   "version": "3.8.10"
  }
 },
 "nbformat": 4,
 "nbformat_minor": 5
}
