{
 "cells": [
  {
   "cell_type": "markdown",
   "id": "eb46e7d0-0f71-4be3-ac81-e8ccc52f11e6",
   "metadata": {},
   "source": [
    "# Oficina de dados abertos do Transferegov"
   ]
  },
  {
   "cell_type": "markdown",
   "id": "cfe3e94b-89d5-4043-aa8c-2bb85636aec3",
   "metadata": {},
   "source": [
    "O foco da oficina será na parte das emendas parlamentares chamadas \"emendas Pix\" que é operacionaliza pelo Transferegov, no módulo de Transferências Especiais. Os dados estão disponibilizados por meio de API de dados abertos."
   ]
  },
  {
   "cell_type": "markdown",
   "id": "cdbc16a8-cd07-4518-97de-cd1698c11512",
   "metadata": {},
   "source": [
    "Endereço da API: https://docs.api.transferegov.gestao.gov.br/transferenciasespeciais/#/plano_acao_especial/get_plano_acao_especial"
   ]
  },
  {
   "cell_type": "markdown",
   "id": "f5041e9f-daa4-4634-913c-99ddee764bff",
   "metadata": {},
   "source": [
    "## Plano de ação especial"
   ]
  },
  {
   "cell_type": "markdown",
   "id": "0bd5ef1a-ba7f-4152-b569-09dfa8560cc4",
   "metadata": {},
   "source": [
    "Vamos carregar em uma única tabela todos os dados de Plano de Ação Especial."
   ]
  },
  {
   "cell_type": "markdown",
   "id": "94e1234b-ef4d-4f83-a777-2e5536236217",
   "metadata": {},
   "source": [
    "### Baixar os dados"
   ]
  },
  {
   "cell_type": "code",
   "execution_count": null,
   "id": "61aabe21-1c3b-4c46-82b3-0d6592e0597b",
   "metadata": {},
   "outputs": [
    {
     "ename": "",
     "evalue": "",
     "output_type": "error",
     "traceback": [
      "\u001b[1;31mRunning cells with 'Python 3.10.12' requires the ipykernel package.\n",
      "\u001b[1;31mRun the following command to install 'ipykernel' into the Python environment. \n",
      "\u001b[1;31mCommand: '/bin/python3 -m pip install ipykernel -U --user --force-reinstall'"
     ]
    }
   ],
   "source": [
    "import pandas as pd\n",
    "import requests\n",
    "from tqdm.notebook import tqdm"
   ]
  },
  {
   "cell_type": "code",
   "execution_count": null,
   "id": "93064bc6-48a4-4926-b4a6-4877b046364e",
   "metadata": {},
   "outputs": [
    {
     "ename": "",
     "evalue": "",
     "output_type": "error",
     "traceback": [
      "\u001b[1;31mRunning cells with 'Python 3.10.12' requires the ipykernel package.\n",
      "\u001b[1;31mRun the following command to install 'ipykernel' into the Python environment. \n",
      "\u001b[1;31mCommand: '/bin/python3 -m pip install ipykernel -U --user --force-reinstall'"
     ]
    }
   ],
   "source": [
    "LIMIT = 1000\n",
    "ANO = 2024\n",
    "URL = \"https://api.transferegov.gestao.gov.br/transferenciasespeciais/plano_acao_especial\""
   ]
  },
  {
   "cell_type": "code",
   "execution_count": null,
   "id": "95ca86be-7b9d-48dd-ba30-794d30565b9d",
   "metadata": {},
   "outputs": [
    {
     "ename": "",
     "evalue": "",
     "output_type": "error",
     "traceback": [
      "\u001b[1;31mRunning cells with 'Python 3.10.12' requires the ipykernel package.\n",
      "\u001b[1;31mRun the following command to install 'ipykernel' into the Python environment. \n",
      "\u001b[1;31mCommand: '/bin/python3 -m pip install ipykernel -U --user --force-reinstall'"
     ]
    }
   ],
   "source": [
    "content = requests.get(\n",
    "    URL,\n",
    "    params={\n",
    "        \"ano_emenda_parlamentar_plano_acao\": f\"eq.{ANO}\",\n",
    "        \"limit\": 10,\n",
    "    },\n",
    "    headers={\n",
    "        \"Prefer\": \"count=exact\",\n",
    "    }\n",
    ")"
   ]
  },
  {
   "cell_type": "code",
   "execution_count": null,
   "id": "21f0598b-3e3a-4a49-9f4c-a53dfc257c83",
   "metadata": {
    "scrolled": true
   },
   "outputs": [
    {
     "ename": "",
     "evalue": "",
     "output_type": "error",
     "traceback": [
      "\u001b[1;31mRunning cells with 'Python 3.10.12' requires the ipykernel package.\n",
      "\u001b[1;31mRun the following command to install 'ipykernel' into the Python environment. \n",
      "\u001b[1;31mCommand: '/bin/python3 -m pip install ipykernel -U --user --force-reinstall'"
     ]
    }
   ],
   "source": [
    "content.headers"
   ]
  },
  {
   "cell_type": "markdown",
   "id": "35cad336-00a2-421d-9f3d-be115406a475",
   "metadata": {},
   "source": [
    "Vamos descobrir a quantidade de registros para iterar sobre ela."
   ]
  },
  {
   "cell_type": "code",
   "execution_count": null,
   "id": "d57ee43a-c783-41e1-8b1e-0898b60ead16",
   "metadata": {},
   "outputs": [
    {
     "ename": "",
     "evalue": "",
     "output_type": "error",
     "traceback": [
      "\u001b[1;31mRunning cells with 'Python 3.10.12' requires the ipykernel package.\n",
      "\u001b[1;31mRun the following command to install 'ipykernel' into the Python environment. \n",
      "\u001b[1;31mCommand: '/bin/python3 -m pip install ipykernel -U --user --force-reinstall'"
     ]
    }
   ],
   "source": [
    "record_count = int(content.headers[\"Content-Range\"].split(\"/\")[-1])\n",
    "record_count"
   ]
  },
  {
   "cell_type": "code",
   "execution_count": null,
   "id": "9d1fc4f8-6562-4262-a42f-e65af4bccd08",
   "metadata": {},
   "outputs": [
    {
     "ename": "",
     "evalue": "",
     "output_type": "error",
     "traceback": [
      "\u001b[1;31mRunning cells with 'Python 3.10.12' requires the ipykernel package.\n",
      "\u001b[1;31mRun the following command to install 'ipykernel' into the Python environment. \n",
      "\u001b[1;31mCommand: '/bin/python3 -m pip install ipykernel -U --user --force-reinstall'"
     ]
    }
   ],
   "source": [
    "data = content.json()"
   ]
  },
  {
   "cell_type": "code",
   "execution_count": null,
   "id": "65558880-dba0-4986-90ed-086abed40138",
   "metadata": {},
   "outputs": [
    {
     "ename": "",
     "evalue": "",
     "output_type": "error",
     "traceback": [
      "\u001b[1;31mRunning cells with 'Python 3.10.12' requires the ipykernel package.\n",
      "\u001b[1;31mRun the following command to install 'ipykernel' into the Python environment. \n",
      "\u001b[1;31mCommand: '/bin/python3 -m pip install ipykernel -U --user --force-reinstall'"
     ]
    }
   ],
   "source": [
    "df = pd.DataFrame(columns=data[0].keys())"
   ]
  },
  {
   "cell_type": "code",
   "execution_count": null,
   "id": "d8a98a8c-ce5f-4800-b547-7078a4dd65e2",
   "metadata": {
    "scrolled": true
   },
   "outputs": [
    {
     "ename": "",
     "evalue": "",
     "output_type": "error",
     "traceback": [
      "\u001b[1;31mRunning cells with 'Python 3.10.12' requires the ipykernel package.\n",
      "\u001b[1;31mRun the following command to install 'ipykernel' into the Python environment. \n",
      "\u001b[1;31mCommand: '/bin/python3 -m pip install ipykernel -U --user --force-reinstall'"
     ]
    }
   ],
   "source": [
    "df.columns"
   ]
  },
  {
   "cell_type": "code",
   "execution_count": null,
   "id": "46af0627-264c-4d6f-b4c7-1f71cc4d9579",
   "metadata": {},
   "outputs": [
    {
     "ename": "",
     "evalue": "",
     "output_type": "error",
     "traceback": [
      "\u001b[1;31mRunning cells with 'Python 3.10.12' requires the ipykernel package.\n",
      "\u001b[1;31mRun the following command to install 'ipykernel' into the Python environment. \n",
      "\u001b[1;31mCommand: '/bin/python3 -m pip install ipykernel -U --user --force-reinstall'"
     ]
    }
   ],
   "source": [
    "pages = []\n",
    "for offset in tqdm(range(0, record_count, LIMIT)):\n",
    "    content = requests.get(\n",
    "        URL,\n",
    "        params={\n",
    "            \"ano_emenda_parlamentar_plano_acao\": f\"eq.{ANO}\",\n",
    "            \"limit\": LIMIT,\n",
    "            \"offset\": offset,\n",
    "        },\n",
    "    )\n",
    "    pages.extend(content.json())\n",
    "\n",
    "df = pd.DataFrame(pages)\n",
    "df"
   ]
  },
  {
   "cell_type": "markdown",
   "id": "61a05d30-7284-489e-b520-bcc4a18c9820",
   "metadata": {},
   "source": [
    "### Análise"
   ]
  },
  {
   "cell_type": "code",
   "execution_count": null,
   "id": "37f9aff7-3a79-4259-ad5e-81be125c3e7a",
   "metadata": {},
   "outputs": [
    {
     "ename": "",
     "evalue": "",
     "output_type": "error",
     "traceback": [
      "\u001b[1;31mRunning cells with 'Python 3.10.12' requires the ipykernel package.\n",
      "\u001b[1;31mRun the following command to install 'ipykernel' into the Python environment. \n",
      "\u001b[1;31mCommand: '/bin/python3 -m pip install ipykernel -U --user --force-reinstall'"
     ]
    }
   ],
   "source": [
    "df[\"nome_parlamentar_emenda_plano_acao\"].value_counts()"
   ]
  },
  {
   "cell_type": "code",
   "execution_count": null,
   "id": "c73d029c-33e6-4512-9827-46a8db301e70",
   "metadata": {},
   "outputs": [],
   "source": [
    "df[\"valor_emenda\"] = df[\"valor_custeio_plano_acao\"] + df[\"valor_investimento_plano_acao\"]"
   ]
  },
  {
   "cell_type": "code",
   "execution_count": null,
   "id": "45dd6721-0d2d-4b1d-97cf-f5927cf31766",
   "metadata": {},
   "outputs": [
    {
     "data": {
      "text/plain": [
       "nome_parlamentar_emenda_plano_acao\n",
       "Abilio Brunini      8485793.0\n",
       "Acácio Favacho     16732792.0\n",
       "Adail Filho        18434456.0\n",
       "Adilson Barroso    15515785.0\n",
       "Adolfo Viana       15650000.0\n",
       "                      ...    \n",
       "Zé Silva           13835792.0\n",
       "Zé Trovão          14935792.0\n",
       "Zé Vitor           17671585.0\n",
       "Átila Lins         15121585.0\n",
       "Átila Lira         17585585.0\n",
       "Name: valor_emenda, Length: 530, dtype: float64"
      ]
     },
     "execution_count": 52,
     "metadata": {},
     "output_type": "execute_result"
    }
   ],
   "source": [
    "total_emendas_por_parlamentar = df.groupby(\"nome_parlamentar_emenda_plano_acao\").sum()[\"valor_emenda\"]\n",
    "total_emendas_por_parlamentar"
   ]
  },
  {
   "cell_type": "code",
   "execution_count": null,
   "id": "e3e7b5a6-7606-438f-b216-42710924181f",
   "metadata": {},
   "outputs": [
    {
     "ename": "",
     "evalue": "",
     "output_type": "error",
     "traceback": [
      "\u001b[1;31mRunning cells with 'Python 3.10.12' requires the ipykernel package.\n",
      "\u001b[1;31mRun the following command to install 'ipykernel' into the Python environment. \n",
      "\u001b[1;31mCommand: '/bin/python3 -m pip install ipykernel -U --user --force-reinstall'"
     ]
    }
   ],
   "source": [
    "total_emendas_por_parlamentar.sort_values(ascending=False)[:20]"
   ]
  },
  {
   "cell_type": "code",
   "execution_count": null,
   "id": "d1550f5d",
   "metadata": {},
   "outputs": [
    {
     "ename": "",
     "evalue": "",
     "output_type": "error",
     "traceback": [
      "\u001b[1;31mRunning cells with 'Python 3.10.12' requires the ipykernel package.\n",
      "\u001b[1;31mRun the following command to install 'ipykernel' into the Python environment. \n",
      "\u001b[1;31mCommand: '/bin/python3 -m pip install ipykernel -U --user --force-reinstall'"
     ]
    }
   ],
   "source": [
    "import matplotlib.pyplot as plt\n",
    "\n",
    "# Ordenar os dados e selecionar os 20 maiores valores\n",
    "top_20_emendas = total_emendas_por_parlamentar.sort_values(ascending=False)[:20]\n",
    "\n",
    "# Criar o gráfico de barras horizontais\n",
    "plt.figure(figsize=(12, 6))\n",
    "top_20_emendas.plot(kind='barh', color='skyblue', edgecolor='black')\n",
    "\n",
    "# Adicionar título e rótulos\n",
    "plt.title('Top 20 Parlamentares por Valor de Emendas', fontsize=16)\n",
    "plt.xlabel('Valor Total das Emendas', fontsize=12)\n",
    "plt.ylabel('Parlamentares', fontsize=12)\n",
    "plt.grid(axis='x', linestyle='--', alpha=0.7)\n",
    "\n",
    "# Ajustar layout e exibir\n",
    "plt.tight_layout()\n",
    "plt.show()\n"
   ]
  },
  {
   "cell_type": "code",
   "execution_count": null,
   "id": "c2adcd10",
   "metadata": {},
   "outputs": [
    {
     "ename": "",
     "evalue": "",
     "output_type": "error",
     "traceback": [
      "\u001b[1;31mRunning cells with 'Python 3.10.12' requires the ipykernel package.\n",
      "\u001b[1;31mRun the following command to install 'ipykernel' into the Python environment. \n",
      "\u001b[1;31mCommand: '/bin/python3 -m pip install ipykernel -U --user --force-reinstall'"
     ]
    }
   ],
   "source": [
    "\n",
    "\n",
    "# URL da API da Câmara para obter partidos\n",
    "url = \"https://dadosabertos.camara.leg.br/api/v2/deputados\"\n",
    "\n",
    "# Requisição dos dados\n",
    "response = requests.get(url, params={})\n",
    "data = response.json()[\"dados\"]\n",
    "\n",
    "# Convertendo para DataFrame\n",
    "#df_deputados = pd.DataFrame(data)[[\"id\", \"nome\", \"siglaPartido\", \"siglaUf\"]]\n",
    "df_deputados = pd.DataFrame(data)\n",
    "df_deputados = df_deputados.rename(columns={\"siglaPartido\":\"partido\"})\n",
    "# Exibindo os primeiros registros\n",
    "print(df_deputados.head())\n"
   ]
  },
  {
   "cell_type": "code",
   "execution_count": null,
   "id": "9ca98b63",
   "metadata": {},
   "outputs": [
    {
     "ename": "",
     "evalue": "",
     "output_type": "error",
     "traceback": [
      "\u001b[1;31mRunning cells with 'Python 3.10.12' requires the ipykernel package.\n",
      "\u001b[1;31mRun the following command to install 'ipykernel' into the Python environment. \n",
      "\u001b[1;31mCommand: '/bin/python3 -m pip install ipykernel -U --user --force-reinstall'"
     ]
    }
   ],
   "source": [
    "df.columns"
   ]
  },
  {
   "cell_type": "code",
   "execution_count": null,
   "id": "6071ffc2",
   "metadata": {},
   "outputs": [
    {
     "ename": "",
     "evalue": "",
     "output_type": "error",
     "traceback": [
      "\u001b[1;31mRunning cells with 'Python 3.10.12' requires the ipykernel package.\n",
      "\u001b[1;31mRun the following command to install 'ipykernel' into the Python environment. \n",
      "\u001b[1;31mCommand: '/bin/python3 -m pip install ipykernel -U --user --force-reinstall'"
     ]
    }
   ],
   "source": [
    "#df.nome_parlamentar_emenda_plano_acao.unique()\n",
    "#df_deputados.nome.unique()\n",
    "#len(set(df.nome_parlamentar_emenda_plano_acao.unique())-set(df_deputados.nome.unique()))\n",
    "#len(df_deputados.nome.unique())\n",
    "#df_deputados[df_deputados['nome'].str.contains('Fernandes')]"
   ]
  },
  {
   "cell_type": "code",
   "execution_count": null,
   "id": "f31125e1",
   "metadata": {},
   "outputs": [
    {
     "ename": "",
     "evalue": "",
     "output_type": "error",
     "traceback": [
      "\u001b[1;31mRunning cells with 'Python 3.10.12' requires the ipykernel package.\n",
      "\u001b[1;31mRun the following command to install 'ipykernel' into the Python environment. \n",
      "\u001b[1;31mCommand: '/bin/python3 -m pip install ipykernel -U --user --force-reinstall'"
     ]
    }
   ],
   "source": [
    "import requests\n",
    "import pandas as pd\n",
    "\n",
    "# URL da API para buscar senadores\n",
    "url = \"https://legis.senado.leg.br/dadosabertos/senador/lista/atual.json\"\n",
    "\n",
    "# Fazer a requisição à API\n",
    "response = requests.get(url)\n",
    "\n",
    "# Verificar se a resposta foi bem-sucedida\n",
    "if response.status_code == 200:\n",
    "    # Parse do JSON\n",
    "    data = response.json()\n",
    "\n",
    "    # Extrair os dados relevantes\n",
    "    senadores = data['ListaParlamentarEmExercicio']['Parlamentares']['Parlamentar']\n",
    "    nomes = []\n",
    "    partidos = []\n",
    "    ufs = []\n",
    "\n",
    "    for senador in senadores:\n",
    "        nome = senador['IdentificacaoParlamentar']['NomeParlamentar']\n",
    "        partido = senador['IdentificacaoParlamentar']['SiglaPartidoParlamentar']\n",
    "        uf =  senador['IdentificacaoParlamentar']['UfParlamentar']\n",
    "        nomes.append(nome)\n",
    "        partidos.append(partido)\n",
    "        ufs.append(uf)\n",
    "\n",
    "    # Criar um DataFrame para exibir os dados\n",
    "    #df = pd.DataFrame({'Nome': nomes, 'Partido': partidos})\n",
    "    df_senadores = pd.DataFrame({'nome': nomes, 'partido': partidos, 'uf': ufs})\n",
    "    print(df_senadores)\n",
    "else:\n",
    "    print(f\"Erro ao acessar a API. Código de status: {response.status_code}\")\n"
   ]
  },
  {
   "cell_type": "code",
   "execution_count": null,
   "id": "e39bcc56",
   "metadata": {},
   "outputs": [
    {
     "ename": "",
     "evalue": "",
     "output_type": "error",
     "traceback": [
      "\u001b[1;31mRunning cells with 'Python 3.10.12' requires the ipykernel package.\n",
      "\u001b[1;31mRun the following command to install 'ipykernel' into the Python environment. \n",
      "\u001b[1;31mCommand: '/bin/python3 -m pip install ipykernel -U --user --force-reinstall'"
     ]
    }
   ],
   "source": [
    "df_deputados.columns"
   ]
  },
  {
   "cell_type": "code",
   "execution_count": null,
   "id": "213e6660",
   "metadata": {},
   "outputs": [
    {
     "ename": "",
     "evalue": "",
     "output_type": "error",
     "traceback": [
      "\u001b[1;31mRunning cells with 'Python 3.10.12' requires the ipykernel package.\n",
      "\u001b[1;31mRun the following command to install 'ipykernel' into the Python environment. \n",
      "\u001b[1;31mCommand: '/bin/python3 -m pip install ipykernel -U --user --force-reinstall'"
     ]
    }
   ],
   "source": [
    "\n",
    "# Supondo que 'nome_parlamentar_emenda_plano_acao' seja a chave de união\n",
    "\n",
    "# Merge com df_deputados\n",
    "df_emendas = df.merge(\n",
    "    df_deputados.rename(columns={'nome': 'nome_parlamentar_emenda_plano_acao'}),\n",
    "    on='nome_parlamentar_emenda_plano_acao',\n",
    "    how='left',\n",
    "    suffixes=('', '_deputado')\n",
    ")\n",
    "df_emendas['cargo']=None\n",
    "df_emendas.loc[df_emendas['partido'].notna(),['cargo']]='deputado'\n",
    "print(df_emendas.columns)\n",
    "\n",
    "# Merge com df_senadores\n",
    "df_emendas = df_emendas.merge(\n",
    "    df_senadores.rename(columns={'nome': 'nome_parlamentar_emenda_plano_acao'}),\n",
    "    on='nome_parlamentar_emenda_plano_acao',\n",
    "    how='left',\n",
    "    suffixes=('', '_senador')\n",
    ")\n",
    "#\n",
    "df_emendas.loc[df_emendas['partido_senador'].notna(),['cargo']]='senador'\n",
    "\n",
    "# Verifica se as colunas existem antes de usar fillna\n",
    "if 'partido_senador' in df_emendas.columns:\n",
    "    df_emendas['partido'] = df_emendas['partido'].fillna(df_emendas['partido_senador'])\n",
    "if 'uf_senador' in df_emendas.columns:\n",
    "    df_emendas['uf'] = df_emendas['uf'].fillna(df_emendas['uf_senador'])\n",
    "\n",
    "# Remover colunas extras se existirem\n",
    "df_emendas = df_emendas.drop(\n",
    "    columns=[col for col in ['partido_senador', 'uf_senador', 'partido_deputado', 'uf_deputado'] if col in df_emendas.columns]\n",
    ")\n",
    "\n",
    "# Resultado final\n",
    "df_emendas\n"
   ]
  },
  {
   "cell_type": "code",
   "execution_count": null,
   "id": "2ba90d95",
   "metadata": {},
   "outputs": [
    {
     "ename": "",
     "evalue": "",
     "output_type": "error",
     "traceback": [
      "\u001b[1;31mRunning cells with 'Python 3.10.12' requires the ipykernel package.\n",
      "\u001b[1;31mRun the following command to install 'ipykernel' into the Python environment. \n",
      "\u001b[1;31mCommand: '/bin/python3 -m pip install ipykernel -U --user --force-reinstall'"
     ]
    }
   ],
   "source": [
    "# Resultado final\n",
    "#df_emendas.cargo.value_counts()\n",
    "#df_emendas.partido"
   ]
  },
  {
   "cell_type": "code",
   "execution_count": null,
   "id": "5eed8bf2",
   "metadata": {},
   "outputs": [
    {
     "ename": "",
     "evalue": "",
     "output_type": "error",
     "traceback": [
      "\u001b[1;31mRunning cells with 'Python 3.10.12' requires the ipykernel package.\n",
      "\u001b[1;31mRun the following command to install 'ipykernel' into the Python environment. \n",
      "\u001b[1;31mCommand: '/bin/python3 -m pip install ipykernel -U --user --force-reinstall'"
     ]
    }
   ],
   "source": [
    "colunas = ['nome_parlamentar_emenda_plano_acao','partido']"
   ]
  },
  {
   "cell_type": "code",
   "execution_count": null,
   "id": "8039c90e",
   "metadata": {},
   "outputs": [],
   "source": [
    "print(deputados_df[colunas].isnull().sum())"
   ]
  },
  {
   "cell_type": "code",
   "execution_count": null,
   "id": "414a9951",
   "metadata": {},
   "outputs": [],
   "source": [
    "df_emendas_deputados = (\n",
    "    df_emendas[df_emendas['cargo']=='deputado']\n",
    "    .groupby(colunas)\n",
    "    .sum()\n",
    "    ['valor_emenda']\n",
    "    .sort_values(ascending=False)\n",
    "    .head(10)\n",
    ")\n",
    "df_emendas_deputados\n"
   ]
  },
  {
   "cell_type": "code",
   "execution_count": null,
   "id": "d1aeaa89",
   "metadata": {},
   "outputs": [],
   "source": [
    "df_emendas_senadores = (\n",
    "    df_emendas[df_emendas['cargo']=='senador']\n",
    "    .groupby(colunas)\n",
    "    .sum()\n",
    "    ['valor_emenda']\n",
    "    .sort_values(ascending=False)\n",
    "    .head(10)\n",
    ")\n",
    "df_emendas_senadores"
   ]
  },
  {
   "cell_type": "code",
   "execution_count": null,
   "id": "7b337a7a",
   "metadata": {},
   "outputs": [],
   "source": [
    "# Criando o gráfico de barras horizontais\n",
    "plt.figure(figsize=(10, 6))\n",
    "plt.barh(df_emendas_senadores.index,\n",
    "         df_emendas_senadores.values,\n",
    "         color='skyblue')\n",
    "\n",
    "# Adicionando título e rótulos aos eixos\n",
    "plt.title('Top 10 Senadores por Valor de Emendas', fontsize=16)\n",
    "plt.xlabel('Valor Total das Emendas', fontsize=12)\n",
    "plt.ylabel('Senadores', fontsize=12)\n",
    "\n",
    "# Exibindo os valores nas barras\n",
    "for index, value in enumerate(df_emendas_senadores.values):\n",
    "    plt.text(value, index, f'{value:,.2f}', va='center', fontsize=10)\n",
    "\n",
    "# Ajustando o layout\n",
    "plt.tight_layout()\n",
    "\n",
    "# Exibindo o gráfico\n",
    "plt.show()"
   ]
  },
  {
   "cell_type": "code",
   "execution_count": null,
   "id": "1659c08e",
   "metadata": {},
   "outputs": [],
   "source": [
    "# Criando o gráfico de barras horizontais\n",
    "plt.figure(figsize=(10, 6))\n",
    "plt.barh(df_emendas_deputados.index,\n",
    "         df_emendas_deputados.values,\n",
    "         color='skyblue')\n",
    "\n",
    "# Adicionando título e rótulos aos eixos\n",
    "plt.title('Top 10 Deputados por Valor de Emendas', fontsize=16)\n",
    "plt.xlabel('Valor Total das Emendas', fontsize=12)\n",
    "plt.ylabel('Deputados', fontsize=12)\n",
    "\n",
    "# Exibindo os valores nas barras\n",
    "for index, value in enumerate(df_emendas_senadores.values):\n",
    "    plt.text(value, index, f'{value:,.2f}', va='center', fontsize=10)\n",
    "\n",
    "# Ajustando o layout\n",
    "plt.tight_layout()\n",
    "\n",
    "# Exibindo o gráfico\n",
    "plt.show()"
   ]
  }
 ],
 "metadata": {
  "kernelspec": {
   "display_name": "Python 3",
   "language": "python",
   "name": "python3"
  },
  "language_info": {
   "codemirror_mode": {
    "name": "ipython",
    "version": 3
   },
   "file_extension": ".py",
   "mimetype": "text/x-python",
   "name": "python",
   "nbconvert_exporter": "python",
   "pygments_lexer": "ipython3",
   "version": "3.10.12"
  }
 },
 "nbformat": 4,
 "nbformat_minor": 5
}
